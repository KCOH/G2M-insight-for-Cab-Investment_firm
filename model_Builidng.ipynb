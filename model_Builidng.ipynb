{
 "cells": [
  {
   "cell_type": "code",
   "execution_count": 102,
   "id": "a662e7cc",
   "metadata": {},
   "outputs": [],
   "source": [
    "import numpy as np\n",
    "import pandas as pd\n",
    "import matplotlib.pyplot as plt\n",
    "%matplotlib inline\n",
    "import seaborn as sns\n",
    "import datetime\n",
    "from sklearn.model_selection import train_test_split\n",
    "from sklearn.linear_model import LinearRegression\n",
    "from sklearn.model_selection import cross_val_score\n",
    "from sklearn.metrics import mean_squared_error, accuracy_score, classification_report\n",
    "from sklearn.tree import DecisionTreeRegressor\n",
    "from sklearn.metrics import roc_curve\n",
    "from sklearn.ensemble import RandomForestRegressor"
   ]
  },
  {
   "cell_type": "code",
   "execution_count": 2,
   "id": "5f44dc7c",
   "metadata": {},
   "outputs": [],
   "source": [
    "Cab_Data = pd.read_csv('Cab_Data.csv')\n",
    "Customer_ID =  pd.read_csv(\"Customer_ID.csv\")\n",
    "Transaction_ID = pd.read_csv(\"Transaction_ID.csv\")\n",
    "City = pd.read_csv(\"City.csv\")"
   ]
  },
  {
   "cell_type": "code",
   "execution_count": 3,
   "id": "a4909163",
   "metadata": {
    "scrolled": true
   },
   "outputs": [
    {
     "data": {
      "text/html": [
       "<div>\n",
       "<style scoped>\n",
       "    .dataframe tbody tr th:only-of-type {\n",
       "        vertical-align: middle;\n",
       "    }\n",
       "\n",
       "    .dataframe tbody tr th {\n",
       "        vertical-align: top;\n",
       "    }\n",
       "\n",
       "    .dataframe thead th {\n",
       "        text-align: right;\n",
       "    }\n",
       "</style>\n",
       "<table border=\"1\" class=\"dataframe\">\n",
       "  <thead>\n",
       "    <tr style=\"text-align: right;\">\n",
       "      <th></th>\n",
       "      <th>Transaction ID</th>\n",
       "      <th>Date of Travel</th>\n",
       "      <th>Company</th>\n",
       "      <th>City</th>\n",
       "      <th>KM Travelled</th>\n",
       "      <th>Price Charged</th>\n",
       "      <th>Cost of Trip</th>\n",
       "    </tr>\n",
       "  </thead>\n",
       "  <tbody>\n",
       "    <tr>\n",
       "      <th>0</th>\n",
       "      <td>10000011</td>\n",
       "      <td>42377</td>\n",
       "      <td>Pink Cab</td>\n",
       "      <td>ATLANTA GA</td>\n",
       "      <td>30.45</td>\n",
       "      <td>370.95</td>\n",
       "      <td>313.635</td>\n",
       "    </tr>\n",
       "    <tr>\n",
       "      <th>1</th>\n",
       "      <td>10000012</td>\n",
       "      <td>42375</td>\n",
       "      <td>Pink Cab</td>\n",
       "      <td>ATLANTA GA</td>\n",
       "      <td>28.62</td>\n",
       "      <td>358.52</td>\n",
       "      <td>334.854</td>\n",
       "    </tr>\n",
       "    <tr>\n",
       "      <th>2</th>\n",
       "      <td>10000013</td>\n",
       "      <td>42371</td>\n",
       "      <td>Pink Cab</td>\n",
       "      <td>ATLANTA GA</td>\n",
       "      <td>9.04</td>\n",
       "      <td>125.20</td>\n",
       "      <td>97.632</td>\n",
       "    </tr>\n",
       "    <tr>\n",
       "      <th>3</th>\n",
       "      <td>10000014</td>\n",
       "      <td>42376</td>\n",
       "      <td>Pink Cab</td>\n",
       "      <td>ATLANTA GA</td>\n",
       "      <td>33.17</td>\n",
       "      <td>377.40</td>\n",
       "      <td>351.602</td>\n",
       "    </tr>\n",
       "    <tr>\n",
       "      <th>4</th>\n",
       "      <td>10000015</td>\n",
       "      <td>42372</td>\n",
       "      <td>Pink Cab</td>\n",
       "      <td>ATLANTA GA</td>\n",
       "      <td>8.73</td>\n",
       "      <td>114.62</td>\n",
       "      <td>97.776</td>\n",
       "    </tr>\n",
       "  </tbody>\n",
       "</table>\n",
       "</div>"
      ],
      "text/plain": [
       "   Transaction ID  Date of Travel   Company        City  KM Travelled  \\\n",
       "0        10000011           42377  Pink Cab  ATLANTA GA         30.45   \n",
       "1        10000012           42375  Pink Cab  ATLANTA GA         28.62   \n",
       "2        10000013           42371  Pink Cab  ATLANTA GA          9.04   \n",
       "3        10000014           42376  Pink Cab  ATLANTA GA         33.17   \n",
       "4        10000015           42372  Pink Cab  ATLANTA GA          8.73   \n",
       "\n",
       "   Price Charged  Cost of Trip  \n",
       "0         370.95       313.635  \n",
       "1         358.52       334.854  \n",
       "2         125.20        97.632  \n",
       "3         377.40       351.602  \n",
       "4         114.62        97.776  "
      ]
     },
     "execution_count": 3,
     "metadata": {},
     "output_type": "execute_result"
    }
   ],
   "source": [
    "Cab_Data.head()"
   ]
  },
  {
   "cell_type": "code",
   "execution_count": 4,
   "id": "0c136bc6",
   "metadata": {},
   "outputs": [
    {
     "name": "stdout",
     "output_type": "stream",
     "text": [
      "<class 'pandas.core.frame.DataFrame'>\n",
      "RangeIndex: 359392 entries, 0 to 359391\n",
      "Data columns (total 7 columns):\n",
      " #   Column          Non-Null Count   Dtype  \n",
      "---  ------          --------------   -----  \n",
      " 0   Transaction ID  359392 non-null  int64  \n",
      " 1   Date of Travel  359392 non-null  int64  \n",
      " 2   Company         359392 non-null  object \n",
      " 3   City            359392 non-null  object \n",
      " 4   KM Travelled    359392 non-null  float64\n",
      " 5   Price Charged   359392 non-null  float64\n",
      " 6   Cost of Trip    359392 non-null  float64\n",
      "dtypes: float64(3), int64(2), object(2)\n",
      "memory usage: 19.2+ MB\n"
     ]
    }
   ],
   "source": [
    "Cab_Data.info()"
   ]
  },
  {
   "cell_type": "code",
   "execution_count": 5,
   "id": "1f998fdf",
   "metadata": {},
   "outputs": [
    {
     "data": {
      "text/plain": [
       "Transaction ID    0\n",
       "Date of Travel    0\n",
       "Company           0\n",
       "City              0\n",
       "KM Travelled      0\n",
       "Price Charged     0\n",
       "Cost of Trip      0\n",
       "dtype: int64"
      ]
     },
     "execution_count": 5,
     "metadata": {},
     "output_type": "execute_result"
    }
   ],
   "source": [
    "Cab_Data.isnull().sum()"
   ]
  },
  {
   "cell_type": "code",
   "execution_count": 6,
   "id": "e904801e",
   "metadata": {},
   "outputs": [
    {
     "data": {
      "text/plain": [
       "Transaction ID    0\n",
       "Customer ID       0\n",
       "Payment_Mode      0\n",
       "dtype: int64"
      ]
     },
     "execution_count": 6,
     "metadata": {},
     "output_type": "execute_result"
    }
   ],
   "source": [
    "Transaction_ID.isnull().sum()"
   ]
  },
  {
   "cell_type": "code",
   "execution_count": 7,
   "id": "314c30a8",
   "metadata": {},
   "outputs": [
    {
     "data": {
      "text/plain": [
       "City          0\n",
       "Population    0\n",
       "Users         0\n",
       "dtype: int64"
      ]
     },
     "execution_count": 7,
     "metadata": {},
     "output_type": "execute_result"
    }
   ],
   "source": [
    "City.isnull().sum()"
   ]
  },
  {
   "cell_type": "code",
   "execution_count": 8,
   "id": "fded83a0",
   "metadata": {},
   "outputs": [
    {
     "data": {
      "text/plain": [
       "Customer ID           0\n",
       "Gender                0\n",
       "Age                   0\n",
       "Income (USD/Month)    0\n",
       "dtype: int64"
      ]
     },
     "execution_count": 8,
     "metadata": {},
     "output_type": "execute_result"
    }
   ],
   "source": [
    "Customer_ID.isnull().sum()"
   ]
  },
  {
   "cell_type": "code",
   "execution_count": 9,
   "id": "1e8ce4c5",
   "metadata": {},
   "outputs": [],
   "source": [
    "for col in Cab_Data.columns:\n",
    "    if ' ' in col:\n",
    "        Cab_Data = Cab_Data.rename(columns={col:col.replace(' ','_')})"
   ]
  },
  {
   "cell_type": "code",
   "execution_count": 10,
   "id": "31079796",
   "metadata": {},
   "outputs": [],
   "source": [
    "for col in Transaction_ID.columns:\n",
    "    if ' ' in col:\n",
    "        Transaction_ID = Transaction_ID.rename(columns={col:col.replace(' ','_')})"
   ]
  },
  {
   "cell_type": "code",
   "execution_count": 11,
   "id": "fc31d550",
   "metadata": {},
   "outputs": [],
   "source": [
    "for col in Customer_ID.columns:\n",
    "    if ' ' in col:\n",
    "        Customer_ID = Customer_ID.rename(columns={col:col.replace(' ','_')})"
   ]
  },
  {
   "cell_type": "code",
   "execution_count": 12,
   "id": "0b9ddee7",
   "metadata": {},
   "outputs": [],
   "source": [
    "#Modify the datetime format\n",
    "from datetime import datetime, timedelta\n",
    "def to_date_format(n):\n",
    "    date_str =(datetime(1899,12,30) + timedelta(n-1)).strftime(\"%d-%m-%Y\")\n",
    "    date_date =  datetime.strptime(date_str, \"%d-%m-%Y\")\n",
    "    return date_date"
   ]
  },
  {
   "cell_type": "code",
   "execution_count": 13,
   "id": "5b71202f",
   "metadata": {},
   "outputs": [],
   "source": [
    "Cab_Data['Date_of_Travel']=Cab_Data['Date_of_Travel'].apply(lambda x:to_date_format(x))"
   ]
  },
  {
   "cell_type": "code",
   "execution_count": 14,
   "id": "4c8906b5",
   "metadata": {},
   "outputs": [
    {
     "data": {
      "text/html": [
       "<div>\n",
       "<style scoped>\n",
       "    .dataframe tbody tr th:only-of-type {\n",
       "        vertical-align: middle;\n",
       "    }\n",
       "\n",
       "    .dataframe tbody tr th {\n",
       "        vertical-align: top;\n",
       "    }\n",
       "\n",
       "    .dataframe thead th {\n",
       "        text-align: right;\n",
       "    }\n",
       "</style>\n",
       "<table border=\"1\" class=\"dataframe\">\n",
       "  <thead>\n",
       "    <tr style=\"text-align: right;\">\n",
       "      <th></th>\n",
       "      <th>Transaction_ID</th>\n",
       "      <th>Date_of_Travel</th>\n",
       "      <th>Company</th>\n",
       "      <th>City</th>\n",
       "      <th>KM_Travelled</th>\n",
       "      <th>Price_Charged</th>\n",
       "      <th>Cost_of_Trip</th>\n",
       "    </tr>\n",
       "  </thead>\n",
       "  <tbody>\n",
       "    <tr>\n",
       "      <th>0</th>\n",
       "      <td>10000011</td>\n",
       "      <td>2016-01-07</td>\n",
       "      <td>Pink Cab</td>\n",
       "      <td>ATLANTA GA</td>\n",
       "      <td>30.45</td>\n",
       "      <td>370.95</td>\n",
       "      <td>313.635</td>\n",
       "    </tr>\n",
       "    <tr>\n",
       "      <th>1</th>\n",
       "      <td>10000012</td>\n",
       "      <td>2016-01-05</td>\n",
       "      <td>Pink Cab</td>\n",
       "      <td>ATLANTA GA</td>\n",
       "      <td>28.62</td>\n",
       "      <td>358.52</td>\n",
       "      <td>334.854</td>\n",
       "    </tr>\n",
       "    <tr>\n",
       "      <th>2</th>\n",
       "      <td>10000013</td>\n",
       "      <td>2016-01-01</td>\n",
       "      <td>Pink Cab</td>\n",
       "      <td>ATLANTA GA</td>\n",
       "      <td>9.04</td>\n",
       "      <td>125.20</td>\n",
       "      <td>97.632</td>\n",
       "    </tr>\n",
       "    <tr>\n",
       "      <th>3</th>\n",
       "      <td>10000014</td>\n",
       "      <td>2016-01-06</td>\n",
       "      <td>Pink Cab</td>\n",
       "      <td>ATLANTA GA</td>\n",
       "      <td>33.17</td>\n",
       "      <td>377.40</td>\n",
       "      <td>351.602</td>\n",
       "    </tr>\n",
       "    <tr>\n",
       "      <th>4</th>\n",
       "      <td>10000015</td>\n",
       "      <td>2016-01-02</td>\n",
       "      <td>Pink Cab</td>\n",
       "      <td>ATLANTA GA</td>\n",
       "      <td>8.73</td>\n",
       "      <td>114.62</td>\n",
       "      <td>97.776</td>\n",
       "    </tr>\n",
       "  </tbody>\n",
       "</table>\n",
       "</div>"
      ],
      "text/plain": [
       "   Transaction_ID Date_of_Travel   Company        City  KM_Travelled  \\\n",
       "0        10000011     2016-01-07  Pink Cab  ATLANTA GA         30.45   \n",
       "1        10000012     2016-01-05  Pink Cab  ATLANTA GA         28.62   \n",
       "2        10000013     2016-01-01  Pink Cab  ATLANTA GA          9.04   \n",
       "3        10000014     2016-01-06  Pink Cab  ATLANTA GA         33.17   \n",
       "4        10000015     2016-01-02  Pink Cab  ATLANTA GA          8.73   \n",
       "\n",
       "   Price_Charged  Cost_of_Trip  \n",
       "0         370.95       313.635  \n",
       "1         358.52       334.854  \n",
       "2         125.20        97.632  \n",
       "3         377.40       351.602  \n",
       "4         114.62        97.776  "
      ]
     },
     "execution_count": 14,
     "metadata": {},
     "output_type": "execute_result"
    }
   ],
   "source": [
    "Cab_Data.head()"
   ]
  },
  {
   "cell_type": "code",
   "execution_count": 15,
   "id": "078cbef6",
   "metadata": {},
   "outputs": [],
   "source": [
    "#split Date_of_Travel into month, year seperatly\n",
    "months=[]\n",
    "years=[]\n",
    "for i in range(len(Cab_Data['Date_of_Travel'])):\n",
    "    months.append(Cab_Data['Date_of_Travel'][i].month)\n",
    "    years.append(Cab_Data['Date_of_Travel'][i].year)\n",
    "Cab_Data['Month']=months\n",
    "Cab_Data['Year']=years\n",
    "#Drop colum'Data_of_Travel'\n",
    "Cab_Data.drop('Date_of_Travel', axis=1, inplace=True)"
   ]
  },
  {
   "cell_type": "code",
   "execution_count": 16,
   "id": "77c9c2f8",
   "metadata": {},
   "outputs": [],
   "source": [
    "#before doing EDA, split the dataset into Pink Cab and Yellow Cab\n",
    "PinkCab=Cab_Data[Cab_Data['Company']=='Pink Cab']\n",
    "YellowCab=Cab_Data[Cab_Data['Company']=='Yellow Cab']"
   ]
  },
  {
   "cell_type": "code",
   "execution_count": 17,
   "id": "dbc45548",
   "metadata": {},
   "outputs": [
    {
     "data": {
      "text/html": [
       "<div>\n",
       "<style scoped>\n",
       "    .dataframe tbody tr th:only-of-type {\n",
       "        vertical-align: middle;\n",
       "    }\n",
       "\n",
       "    .dataframe tbody tr th {\n",
       "        vertical-align: top;\n",
       "    }\n",
       "\n",
       "    .dataframe thead th {\n",
       "        text-align: right;\n",
       "    }\n",
       "</style>\n",
       "<table border=\"1\" class=\"dataframe\">\n",
       "  <thead>\n",
       "    <tr style=\"text-align: right;\">\n",
       "      <th></th>\n",
       "      <th>Transaction_ID</th>\n",
       "      <th>Company</th>\n",
       "      <th>City</th>\n",
       "      <th>KM_Travelled</th>\n",
       "      <th>Price_Charged</th>\n",
       "      <th>Cost_of_Trip</th>\n",
       "      <th>Month</th>\n",
       "      <th>Year</th>\n",
       "    </tr>\n",
       "  </thead>\n",
       "  <tbody>\n",
       "    <tr>\n",
       "      <th>0</th>\n",
       "      <td>10000011</td>\n",
       "      <td>Pink Cab</td>\n",
       "      <td>ATLANTA GA</td>\n",
       "      <td>30.45</td>\n",
       "      <td>370.95</td>\n",
       "      <td>313.635</td>\n",
       "      <td>1</td>\n",
       "      <td>2016</td>\n",
       "    </tr>\n",
       "    <tr>\n",
       "      <th>1</th>\n",
       "      <td>10000012</td>\n",
       "      <td>Pink Cab</td>\n",
       "      <td>ATLANTA GA</td>\n",
       "      <td>28.62</td>\n",
       "      <td>358.52</td>\n",
       "      <td>334.854</td>\n",
       "      <td>1</td>\n",
       "      <td>2016</td>\n",
       "    </tr>\n",
       "    <tr>\n",
       "      <th>2</th>\n",
       "      <td>10000013</td>\n",
       "      <td>Pink Cab</td>\n",
       "      <td>ATLANTA GA</td>\n",
       "      <td>9.04</td>\n",
       "      <td>125.20</td>\n",
       "      <td>97.632</td>\n",
       "      <td>1</td>\n",
       "      <td>2016</td>\n",
       "    </tr>\n",
       "    <tr>\n",
       "      <th>3</th>\n",
       "      <td>10000014</td>\n",
       "      <td>Pink Cab</td>\n",
       "      <td>ATLANTA GA</td>\n",
       "      <td>33.17</td>\n",
       "      <td>377.40</td>\n",
       "      <td>351.602</td>\n",
       "      <td>1</td>\n",
       "      <td>2016</td>\n",
       "    </tr>\n",
       "    <tr>\n",
       "      <th>4</th>\n",
       "      <td>10000015</td>\n",
       "      <td>Pink Cab</td>\n",
       "      <td>ATLANTA GA</td>\n",
       "      <td>8.73</td>\n",
       "      <td>114.62</td>\n",
       "      <td>97.776</td>\n",
       "      <td>1</td>\n",
       "      <td>2016</td>\n",
       "    </tr>\n",
       "  </tbody>\n",
       "</table>\n",
       "</div>"
      ],
      "text/plain": [
       "   Transaction_ID   Company        City  KM_Travelled  Price_Charged  \\\n",
       "0        10000011  Pink Cab  ATLANTA GA         30.45         370.95   \n",
       "1        10000012  Pink Cab  ATLANTA GA         28.62         358.52   \n",
       "2        10000013  Pink Cab  ATLANTA GA          9.04         125.20   \n",
       "3        10000014  Pink Cab  ATLANTA GA         33.17         377.40   \n",
       "4        10000015  Pink Cab  ATLANTA GA          8.73         114.62   \n",
       "\n",
       "   Cost_of_Trip  Month  Year  \n",
       "0       313.635      1  2016  \n",
       "1       334.854      1  2016  \n",
       "2        97.632      1  2016  \n",
       "3       351.602      1  2016  \n",
       "4        97.776      1  2016  "
      ]
     },
     "execution_count": 17,
     "metadata": {},
     "output_type": "execute_result"
    }
   ],
   "source": [
    "Cab_Data.head()"
   ]
  },
  {
   "cell_type": "code",
   "execution_count": 18,
   "id": "4a237bc9",
   "metadata": {},
   "outputs": [
    {
     "data": {
      "text/html": [
       "<div>\n",
       "<style scoped>\n",
       "    .dataframe tbody tr th:only-of-type {\n",
       "        vertical-align: middle;\n",
       "    }\n",
       "\n",
       "    .dataframe tbody tr th {\n",
       "        vertical-align: top;\n",
       "    }\n",
       "\n",
       "    .dataframe thead th {\n",
       "        text-align: right;\n",
       "    }\n",
       "</style>\n",
       "<table border=\"1\" class=\"dataframe\">\n",
       "  <thead>\n",
       "    <tr style=\"text-align: right;\">\n",
       "      <th></th>\n",
       "      <th>Company</th>\n",
       "      <th>City</th>\n",
       "      <th>KM_Travelled</th>\n",
       "      <th>Price_Charged</th>\n",
       "      <th>Cost_of_Trip</th>\n",
       "      <th>Month</th>\n",
       "      <th>Year</th>\n",
       "      <th>Customer_ID</th>\n",
       "      <th>Payment_Mode</th>\n",
       "    </tr>\n",
       "    <tr>\n",
       "      <th>Transaction_ID</th>\n",
       "      <th></th>\n",
       "      <th></th>\n",
       "      <th></th>\n",
       "      <th></th>\n",
       "      <th></th>\n",
       "      <th></th>\n",
       "      <th></th>\n",
       "      <th></th>\n",
       "      <th></th>\n",
       "    </tr>\n",
       "  </thead>\n",
       "  <tbody>\n",
       "    <tr>\n",
       "      <th>10000011</th>\n",
       "      <td>Pink Cab</td>\n",
       "      <td>ATLANTA GA</td>\n",
       "      <td>30.45</td>\n",
       "      <td>370.95</td>\n",
       "      <td>313.6350</td>\n",
       "      <td>1</td>\n",
       "      <td>2016</td>\n",
       "      <td>29290</td>\n",
       "      <td>Card</td>\n",
       "    </tr>\n",
       "    <tr>\n",
       "      <th>10000012</th>\n",
       "      <td>Pink Cab</td>\n",
       "      <td>ATLANTA GA</td>\n",
       "      <td>28.62</td>\n",
       "      <td>358.52</td>\n",
       "      <td>334.8540</td>\n",
       "      <td>1</td>\n",
       "      <td>2016</td>\n",
       "      <td>27703</td>\n",
       "      <td>Card</td>\n",
       "    </tr>\n",
       "    <tr>\n",
       "      <th>10000013</th>\n",
       "      <td>Pink Cab</td>\n",
       "      <td>ATLANTA GA</td>\n",
       "      <td>9.04</td>\n",
       "      <td>125.20</td>\n",
       "      <td>97.6320</td>\n",
       "      <td>1</td>\n",
       "      <td>2016</td>\n",
       "      <td>28712</td>\n",
       "      <td>Cash</td>\n",
       "    </tr>\n",
       "    <tr>\n",
       "      <th>10000014</th>\n",
       "      <td>Pink Cab</td>\n",
       "      <td>ATLANTA GA</td>\n",
       "      <td>33.17</td>\n",
       "      <td>377.40</td>\n",
       "      <td>351.6020</td>\n",
       "      <td>1</td>\n",
       "      <td>2016</td>\n",
       "      <td>28020</td>\n",
       "      <td>Cash</td>\n",
       "    </tr>\n",
       "    <tr>\n",
       "      <th>10000015</th>\n",
       "      <td>Pink Cab</td>\n",
       "      <td>ATLANTA GA</td>\n",
       "      <td>8.73</td>\n",
       "      <td>114.62</td>\n",
       "      <td>97.7760</td>\n",
       "      <td>1</td>\n",
       "      <td>2016</td>\n",
       "      <td>27182</td>\n",
       "      <td>Card</td>\n",
       "    </tr>\n",
       "    <tr>\n",
       "      <th>...</th>\n",
       "      <td>...</td>\n",
       "      <td>...</td>\n",
       "      <td>...</td>\n",
       "      <td>...</td>\n",
       "      <td>...</td>\n",
       "      <td>...</td>\n",
       "      <td>...</td>\n",
       "      <td>...</td>\n",
       "      <td>...</td>\n",
       "    </tr>\n",
       "    <tr>\n",
       "      <th>10440101</th>\n",
       "      <td>Yellow Cab</td>\n",
       "      <td>WASHINGTON DC</td>\n",
       "      <td>4.80</td>\n",
       "      <td>69.24</td>\n",
       "      <td>63.3600</td>\n",
       "      <td>1</td>\n",
       "      <td>2018</td>\n",
       "      <td>52392</td>\n",
       "      <td>Cash</td>\n",
       "    </tr>\n",
       "    <tr>\n",
       "      <th>10440104</th>\n",
       "      <td>Yellow Cab</td>\n",
       "      <td>WASHINGTON DC</td>\n",
       "      <td>8.40</td>\n",
       "      <td>113.75</td>\n",
       "      <td>106.8480</td>\n",
       "      <td>1</td>\n",
       "      <td>2018</td>\n",
       "      <td>53286</td>\n",
       "      <td>Cash</td>\n",
       "    </tr>\n",
       "    <tr>\n",
       "      <th>10440105</th>\n",
       "      <td>Yellow Cab</td>\n",
       "      <td>WASHINGTON DC</td>\n",
       "      <td>27.75</td>\n",
       "      <td>437.07</td>\n",
       "      <td>349.6500</td>\n",
       "      <td>1</td>\n",
       "      <td>2018</td>\n",
       "      <td>52265</td>\n",
       "      <td>Cash</td>\n",
       "    </tr>\n",
       "    <tr>\n",
       "      <th>10440106</th>\n",
       "      <td>Yellow Cab</td>\n",
       "      <td>WASHINGTON DC</td>\n",
       "      <td>8.80</td>\n",
       "      <td>146.19</td>\n",
       "      <td>114.0480</td>\n",
       "      <td>1</td>\n",
       "      <td>2018</td>\n",
       "      <td>52175</td>\n",
       "      <td>Card</td>\n",
       "    </tr>\n",
       "    <tr>\n",
       "      <th>10440107</th>\n",
       "      <td>Yellow Cab</td>\n",
       "      <td>WASHINGTON DC</td>\n",
       "      <td>12.76</td>\n",
       "      <td>191.58</td>\n",
       "      <td>177.6192</td>\n",
       "      <td>1</td>\n",
       "      <td>2018</td>\n",
       "      <td>52917</td>\n",
       "      <td>Card</td>\n",
       "    </tr>\n",
       "  </tbody>\n",
       "</table>\n",
       "<p>359392 rows × 9 columns</p>\n",
       "</div>"
      ],
      "text/plain": [
       "                   Company           City  KM_Travelled  Price_Charged  \\\n",
       "Transaction_ID                                                           \n",
       "10000011          Pink Cab     ATLANTA GA         30.45         370.95   \n",
       "10000012          Pink Cab     ATLANTA GA         28.62         358.52   \n",
       "10000013          Pink Cab     ATLANTA GA          9.04         125.20   \n",
       "10000014          Pink Cab     ATLANTA GA         33.17         377.40   \n",
       "10000015          Pink Cab     ATLANTA GA          8.73         114.62   \n",
       "...                    ...            ...           ...            ...   \n",
       "10440101        Yellow Cab  WASHINGTON DC          4.80          69.24   \n",
       "10440104        Yellow Cab  WASHINGTON DC          8.40         113.75   \n",
       "10440105        Yellow Cab  WASHINGTON DC         27.75         437.07   \n",
       "10440106        Yellow Cab  WASHINGTON DC          8.80         146.19   \n",
       "10440107        Yellow Cab  WASHINGTON DC         12.76         191.58   \n",
       "\n",
       "                Cost_of_Trip  Month  Year  Customer_ID Payment_Mode  \n",
       "Transaction_ID                                                       \n",
       "10000011            313.6350      1  2016        29290         Card  \n",
       "10000012            334.8540      1  2016        27703         Card  \n",
       "10000013             97.6320      1  2016        28712         Cash  \n",
       "10000014            351.6020      1  2016        28020         Cash  \n",
       "10000015             97.7760      1  2016        27182         Card  \n",
       "...                      ...    ...   ...          ...          ...  \n",
       "10440101             63.3600      1  2018        52392         Cash  \n",
       "10440104            106.8480      1  2018        53286         Cash  \n",
       "10440105            349.6500      1  2018        52265         Cash  \n",
       "10440106            114.0480      1  2018        52175         Card  \n",
       "10440107            177.6192      1  2018        52917         Card  \n",
       "\n",
       "[359392 rows x 9 columns]"
      ]
     },
     "execution_count": 18,
     "metadata": {},
     "output_type": "execute_result"
    }
   ],
   "source": [
    "#Creating Master Data\n",
    "left = Cab_Data.set_index(['Transaction_ID'])\n",
    "right = Transaction_ID.set_index(['Transaction_ID'])\n",
    "data = left.join(right)\n",
    "data"
   ]
  },
  {
   "cell_type": "code",
   "execution_count": 19,
   "id": "d621bea3",
   "metadata": {},
   "outputs": [
    {
     "data": {
      "text/html": [
       "<div>\n",
       "<style scoped>\n",
       "    .dataframe tbody tr th:only-of-type {\n",
       "        vertical-align: middle;\n",
       "    }\n",
       "\n",
       "    .dataframe tbody tr th {\n",
       "        vertical-align: top;\n",
       "    }\n",
       "\n",
       "    .dataframe thead th {\n",
       "        text-align: right;\n",
       "    }\n",
       "</style>\n",
       "<table border=\"1\" class=\"dataframe\">\n",
       "  <thead>\n",
       "    <tr style=\"text-align: right;\">\n",
       "      <th></th>\n",
       "      <th></th>\n",
       "      <th>Company</th>\n",
       "      <th>City</th>\n",
       "      <th>KM_Travelled</th>\n",
       "      <th>Price_Charged</th>\n",
       "      <th>Cost_of_Trip</th>\n",
       "      <th>Month</th>\n",
       "      <th>Year</th>\n",
       "      <th>Payment_Mode</th>\n",
       "      <th>Gender</th>\n",
       "      <th>Age</th>\n",
       "      <th>Income_(USD/Month)</th>\n",
       "    </tr>\n",
       "    <tr>\n",
       "      <th>Transaction_ID</th>\n",
       "      <th>Customer_ID</th>\n",
       "      <th></th>\n",
       "      <th></th>\n",
       "      <th></th>\n",
       "      <th></th>\n",
       "      <th></th>\n",
       "      <th></th>\n",
       "      <th></th>\n",
       "      <th></th>\n",
       "      <th></th>\n",
       "      <th></th>\n",
       "      <th></th>\n",
       "    </tr>\n",
       "  </thead>\n",
       "  <tbody>\n",
       "    <tr>\n",
       "      <th>10000011</th>\n",
       "      <th>29290</th>\n",
       "      <td>Pink Cab</td>\n",
       "      <td>ATLANTA GA</td>\n",
       "      <td>30.45</td>\n",
       "      <td>370.95</td>\n",
       "      <td>313.6350</td>\n",
       "      <td>1</td>\n",
       "      <td>2016</td>\n",
       "      <td>Card</td>\n",
       "      <td>Male</td>\n",
       "      <td>28</td>\n",
       "      <td>10813</td>\n",
       "    </tr>\n",
       "    <tr>\n",
       "      <th>10000012</th>\n",
       "      <th>27703</th>\n",
       "      <td>Pink Cab</td>\n",
       "      <td>ATLANTA GA</td>\n",
       "      <td>28.62</td>\n",
       "      <td>358.52</td>\n",
       "      <td>334.8540</td>\n",
       "      <td>1</td>\n",
       "      <td>2016</td>\n",
       "      <td>Card</td>\n",
       "      <td>Male</td>\n",
       "      <td>27</td>\n",
       "      <td>9237</td>\n",
       "    </tr>\n",
       "    <tr>\n",
       "      <th>10000013</th>\n",
       "      <th>28712</th>\n",
       "      <td>Pink Cab</td>\n",
       "      <td>ATLANTA GA</td>\n",
       "      <td>9.04</td>\n",
       "      <td>125.20</td>\n",
       "      <td>97.6320</td>\n",
       "      <td>1</td>\n",
       "      <td>2016</td>\n",
       "      <td>Cash</td>\n",
       "      <td>Male</td>\n",
       "      <td>53</td>\n",
       "      <td>11242</td>\n",
       "    </tr>\n",
       "    <tr>\n",
       "      <th>10000014</th>\n",
       "      <th>28020</th>\n",
       "      <td>Pink Cab</td>\n",
       "      <td>ATLANTA GA</td>\n",
       "      <td>33.17</td>\n",
       "      <td>377.40</td>\n",
       "      <td>351.6020</td>\n",
       "      <td>1</td>\n",
       "      <td>2016</td>\n",
       "      <td>Cash</td>\n",
       "      <td>Male</td>\n",
       "      <td>23</td>\n",
       "      <td>23327</td>\n",
       "    </tr>\n",
       "    <tr>\n",
       "      <th>10000015</th>\n",
       "      <th>27182</th>\n",
       "      <td>Pink Cab</td>\n",
       "      <td>ATLANTA GA</td>\n",
       "      <td>8.73</td>\n",
       "      <td>114.62</td>\n",
       "      <td>97.7760</td>\n",
       "      <td>1</td>\n",
       "      <td>2016</td>\n",
       "      <td>Card</td>\n",
       "      <td>Male</td>\n",
       "      <td>33</td>\n",
       "      <td>8536</td>\n",
       "    </tr>\n",
       "    <tr>\n",
       "      <th>...</th>\n",
       "      <th>...</th>\n",
       "      <td>...</td>\n",
       "      <td>...</td>\n",
       "      <td>...</td>\n",
       "      <td>...</td>\n",
       "      <td>...</td>\n",
       "      <td>...</td>\n",
       "      <td>...</td>\n",
       "      <td>...</td>\n",
       "      <td>...</td>\n",
       "      <td>...</td>\n",
       "      <td>...</td>\n",
       "    </tr>\n",
       "    <tr>\n",
       "      <th>10440101</th>\n",
       "      <th>52392</th>\n",
       "      <td>Yellow Cab</td>\n",
       "      <td>WASHINGTON DC</td>\n",
       "      <td>4.80</td>\n",
       "      <td>69.24</td>\n",
       "      <td>63.3600</td>\n",
       "      <td>1</td>\n",
       "      <td>2018</td>\n",
       "      <td>Cash</td>\n",
       "      <td>Male</td>\n",
       "      <td>24</td>\n",
       "      <td>15651</td>\n",
       "    </tr>\n",
       "    <tr>\n",
       "      <th>10440104</th>\n",
       "      <th>53286</th>\n",
       "      <td>Yellow Cab</td>\n",
       "      <td>WASHINGTON DC</td>\n",
       "      <td>8.40</td>\n",
       "      <td>113.75</td>\n",
       "      <td>106.8480</td>\n",
       "      <td>1</td>\n",
       "      <td>2018</td>\n",
       "      <td>Cash</td>\n",
       "      <td>Male</td>\n",
       "      <td>32</td>\n",
       "      <td>6528</td>\n",
       "    </tr>\n",
       "    <tr>\n",
       "      <th>10440105</th>\n",
       "      <th>52265</th>\n",
       "      <td>Yellow Cab</td>\n",
       "      <td>WASHINGTON DC</td>\n",
       "      <td>27.75</td>\n",
       "      <td>437.07</td>\n",
       "      <td>349.6500</td>\n",
       "      <td>1</td>\n",
       "      <td>2018</td>\n",
       "      <td>Cash</td>\n",
       "      <td>Male</td>\n",
       "      <td>56</td>\n",
       "      <td>7966</td>\n",
       "    </tr>\n",
       "    <tr>\n",
       "      <th>10440106</th>\n",
       "      <th>52175</th>\n",
       "      <td>Yellow Cab</td>\n",
       "      <td>WASHINGTON DC</td>\n",
       "      <td>8.80</td>\n",
       "      <td>146.19</td>\n",
       "      <td>114.0480</td>\n",
       "      <td>1</td>\n",
       "      <td>2018</td>\n",
       "      <td>Card</td>\n",
       "      <td>Male</td>\n",
       "      <td>32</td>\n",
       "      <td>6423</td>\n",
       "    </tr>\n",
       "    <tr>\n",
       "      <th>10440107</th>\n",
       "      <th>52917</th>\n",
       "      <td>Yellow Cab</td>\n",
       "      <td>WASHINGTON DC</td>\n",
       "      <td>12.76</td>\n",
       "      <td>191.58</td>\n",
       "      <td>177.6192</td>\n",
       "      <td>1</td>\n",
       "      <td>2018</td>\n",
       "      <td>Card</td>\n",
       "      <td>Male</td>\n",
       "      <td>20</td>\n",
       "      <td>11284</td>\n",
       "    </tr>\n",
       "  </tbody>\n",
       "</table>\n",
       "<p>359392 rows × 11 columns</p>\n",
       "</div>"
      ],
      "text/plain": [
       "                               Company           City  KM_Travelled  \\\n",
       "Transaction_ID Customer_ID                                            \n",
       "10000011       29290          Pink Cab     ATLANTA GA         30.45   \n",
       "10000012       27703          Pink Cab     ATLANTA GA         28.62   \n",
       "10000013       28712          Pink Cab     ATLANTA GA          9.04   \n",
       "10000014       28020          Pink Cab     ATLANTA GA         33.17   \n",
       "10000015       27182          Pink Cab     ATLANTA GA          8.73   \n",
       "...                                ...            ...           ...   \n",
       "10440101       52392        Yellow Cab  WASHINGTON DC          4.80   \n",
       "10440104       53286        Yellow Cab  WASHINGTON DC          8.40   \n",
       "10440105       52265        Yellow Cab  WASHINGTON DC         27.75   \n",
       "10440106       52175        Yellow Cab  WASHINGTON DC          8.80   \n",
       "10440107       52917        Yellow Cab  WASHINGTON DC         12.76   \n",
       "\n",
       "                            Price_Charged  Cost_of_Trip  Month  Year  \\\n",
       "Transaction_ID Customer_ID                                             \n",
       "10000011       29290               370.95      313.6350      1  2016   \n",
       "10000012       27703               358.52      334.8540      1  2016   \n",
       "10000013       28712               125.20       97.6320      1  2016   \n",
       "10000014       28020               377.40      351.6020      1  2016   \n",
       "10000015       27182               114.62       97.7760      1  2016   \n",
       "...                                   ...           ...    ...   ...   \n",
       "10440101       52392                69.24       63.3600      1  2018   \n",
       "10440104       53286               113.75      106.8480      1  2018   \n",
       "10440105       52265               437.07      349.6500      1  2018   \n",
       "10440106       52175               146.19      114.0480      1  2018   \n",
       "10440107       52917               191.58      177.6192      1  2018   \n",
       "\n",
       "                           Payment_Mode Gender  Age  Income_(USD/Month)  \n",
       "Transaction_ID Customer_ID                                               \n",
       "10000011       29290               Card   Male   28               10813  \n",
       "10000012       27703               Card   Male   27                9237  \n",
       "10000013       28712               Cash   Male   53               11242  \n",
       "10000014       28020               Cash   Male   23               23327  \n",
       "10000015       27182               Card   Male   33                8536  \n",
       "...                                 ...    ...  ...                 ...  \n",
       "10440101       52392               Cash   Male   24               15651  \n",
       "10440104       53286               Cash   Male   32                6528  \n",
       "10440105       52265               Cash   Male   56                7966  \n",
       "10440106       52175               Card   Male   32                6423  \n",
       "10440107       52917               Card   Male   20               11284  \n",
       "\n",
       "[359392 rows x 11 columns]"
      ]
     },
     "execution_count": 19,
     "metadata": {},
     "output_type": "execute_result"
    }
   ],
   "source": [
    "left = data.set_index([data.index,'Customer_ID'])\n",
    "right = Customer_ID.set_index(['Customer_ID'])\n",
    "data = left.join(right)\n",
    "data"
   ]
  },
  {
   "cell_type": "code",
   "execution_count": 20,
   "id": "a5914de3",
   "metadata": {},
   "outputs": [
    {
     "data": {
      "text/html": [
       "<div>\n",
       "<style scoped>\n",
       "    .dataframe tbody tr th:only-of-type {\n",
       "        vertical-align: middle;\n",
       "    }\n",
       "\n",
       "    .dataframe tbody tr th {\n",
       "        vertical-align: top;\n",
       "    }\n",
       "\n",
       "    .dataframe thead th {\n",
       "        text-align: right;\n",
       "    }\n",
       "</style>\n",
       "<table border=\"1\" class=\"dataframe\">\n",
       "  <thead>\n",
       "    <tr style=\"text-align: right;\">\n",
       "      <th></th>\n",
       "      <th></th>\n",
       "      <th></th>\n",
       "      <th>Company</th>\n",
       "      <th>KM_Travelled</th>\n",
       "      <th>Price_Charged</th>\n",
       "      <th>Cost_of_Trip</th>\n",
       "      <th>Month</th>\n",
       "      <th>Year</th>\n",
       "      <th>Payment_Mode</th>\n",
       "      <th>Gender</th>\n",
       "      <th>Age</th>\n",
       "      <th>Income_(USD/Month)</th>\n",
       "      <th>Population</th>\n",
       "      <th>Users</th>\n",
       "    </tr>\n",
       "    <tr>\n",
       "      <th>Transaction_ID</th>\n",
       "      <th>Customer_ID</th>\n",
       "      <th>City</th>\n",
       "      <th></th>\n",
       "      <th></th>\n",
       "      <th></th>\n",
       "      <th></th>\n",
       "      <th></th>\n",
       "      <th></th>\n",
       "      <th></th>\n",
       "      <th></th>\n",
       "      <th></th>\n",
       "      <th></th>\n",
       "      <th></th>\n",
       "      <th></th>\n",
       "    </tr>\n",
       "  </thead>\n",
       "  <tbody>\n",
       "    <tr>\n",
       "      <th>10000011</th>\n",
       "      <th>29290</th>\n",
       "      <th>ATLANTA GA</th>\n",
       "      <td>Pink Cab</td>\n",
       "      <td>30.45</td>\n",
       "      <td>370.95</td>\n",
       "      <td>313.6350</td>\n",
       "      <td>1</td>\n",
       "      <td>2016</td>\n",
       "      <td>Card</td>\n",
       "      <td>Male</td>\n",
       "      <td>28</td>\n",
       "      <td>10813</td>\n",
       "      <td>814,885</td>\n",
       "      <td>24,701</td>\n",
       "    </tr>\n",
       "    <tr>\n",
       "      <th>10000012</th>\n",
       "      <th>27703</th>\n",
       "      <th>ATLANTA GA</th>\n",
       "      <td>Pink Cab</td>\n",
       "      <td>28.62</td>\n",
       "      <td>358.52</td>\n",
       "      <td>334.8540</td>\n",
       "      <td>1</td>\n",
       "      <td>2016</td>\n",
       "      <td>Card</td>\n",
       "      <td>Male</td>\n",
       "      <td>27</td>\n",
       "      <td>9237</td>\n",
       "      <td>814,885</td>\n",
       "      <td>24,701</td>\n",
       "    </tr>\n",
       "    <tr>\n",
       "      <th>10000013</th>\n",
       "      <th>28712</th>\n",
       "      <th>ATLANTA GA</th>\n",
       "      <td>Pink Cab</td>\n",
       "      <td>9.04</td>\n",
       "      <td>125.20</td>\n",
       "      <td>97.6320</td>\n",
       "      <td>1</td>\n",
       "      <td>2016</td>\n",
       "      <td>Cash</td>\n",
       "      <td>Male</td>\n",
       "      <td>53</td>\n",
       "      <td>11242</td>\n",
       "      <td>814,885</td>\n",
       "      <td>24,701</td>\n",
       "    </tr>\n",
       "    <tr>\n",
       "      <th>10000014</th>\n",
       "      <th>28020</th>\n",
       "      <th>ATLANTA GA</th>\n",
       "      <td>Pink Cab</td>\n",
       "      <td>33.17</td>\n",
       "      <td>377.40</td>\n",
       "      <td>351.6020</td>\n",
       "      <td>1</td>\n",
       "      <td>2016</td>\n",
       "      <td>Cash</td>\n",
       "      <td>Male</td>\n",
       "      <td>23</td>\n",
       "      <td>23327</td>\n",
       "      <td>814,885</td>\n",
       "      <td>24,701</td>\n",
       "    </tr>\n",
       "    <tr>\n",
       "      <th>10000015</th>\n",
       "      <th>27182</th>\n",
       "      <th>ATLANTA GA</th>\n",
       "      <td>Pink Cab</td>\n",
       "      <td>8.73</td>\n",
       "      <td>114.62</td>\n",
       "      <td>97.7760</td>\n",
       "      <td>1</td>\n",
       "      <td>2016</td>\n",
       "      <td>Card</td>\n",
       "      <td>Male</td>\n",
       "      <td>33</td>\n",
       "      <td>8536</td>\n",
       "      <td>814,885</td>\n",
       "      <td>24,701</td>\n",
       "    </tr>\n",
       "    <tr>\n",
       "      <th>...</th>\n",
       "      <th>...</th>\n",
       "      <th>...</th>\n",
       "      <td>...</td>\n",
       "      <td>...</td>\n",
       "      <td>...</td>\n",
       "      <td>...</td>\n",
       "      <td>...</td>\n",
       "      <td>...</td>\n",
       "      <td>...</td>\n",
       "      <td>...</td>\n",
       "      <td>...</td>\n",
       "      <td>...</td>\n",
       "      <td>...</td>\n",
       "      <td>...</td>\n",
       "    </tr>\n",
       "    <tr>\n",
       "      <th>10440101</th>\n",
       "      <th>52392</th>\n",
       "      <th>WASHINGTON DC</th>\n",
       "      <td>Yellow Cab</td>\n",
       "      <td>4.80</td>\n",
       "      <td>69.24</td>\n",
       "      <td>63.3600</td>\n",
       "      <td>1</td>\n",
       "      <td>2018</td>\n",
       "      <td>Cash</td>\n",
       "      <td>Male</td>\n",
       "      <td>24</td>\n",
       "      <td>15651</td>\n",
       "      <td>418,859</td>\n",
       "      <td>127,001</td>\n",
       "    </tr>\n",
       "    <tr>\n",
       "      <th>10440104</th>\n",
       "      <th>53286</th>\n",
       "      <th>WASHINGTON DC</th>\n",
       "      <td>Yellow Cab</td>\n",
       "      <td>8.40</td>\n",
       "      <td>113.75</td>\n",
       "      <td>106.8480</td>\n",
       "      <td>1</td>\n",
       "      <td>2018</td>\n",
       "      <td>Cash</td>\n",
       "      <td>Male</td>\n",
       "      <td>32</td>\n",
       "      <td>6528</td>\n",
       "      <td>418,859</td>\n",
       "      <td>127,001</td>\n",
       "    </tr>\n",
       "    <tr>\n",
       "      <th>10440105</th>\n",
       "      <th>52265</th>\n",
       "      <th>WASHINGTON DC</th>\n",
       "      <td>Yellow Cab</td>\n",
       "      <td>27.75</td>\n",
       "      <td>437.07</td>\n",
       "      <td>349.6500</td>\n",
       "      <td>1</td>\n",
       "      <td>2018</td>\n",
       "      <td>Cash</td>\n",
       "      <td>Male</td>\n",
       "      <td>56</td>\n",
       "      <td>7966</td>\n",
       "      <td>418,859</td>\n",
       "      <td>127,001</td>\n",
       "    </tr>\n",
       "    <tr>\n",
       "      <th>10440106</th>\n",
       "      <th>52175</th>\n",
       "      <th>WASHINGTON DC</th>\n",
       "      <td>Yellow Cab</td>\n",
       "      <td>8.80</td>\n",
       "      <td>146.19</td>\n",
       "      <td>114.0480</td>\n",
       "      <td>1</td>\n",
       "      <td>2018</td>\n",
       "      <td>Card</td>\n",
       "      <td>Male</td>\n",
       "      <td>32</td>\n",
       "      <td>6423</td>\n",
       "      <td>418,859</td>\n",
       "      <td>127,001</td>\n",
       "    </tr>\n",
       "    <tr>\n",
       "      <th>10440107</th>\n",
       "      <th>52917</th>\n",
       "      <th>WASHINGTON DC</th>\n",
       "      <td>Yellow Cab</td>\n",
       "      <td>12.76</td>\n",
       "      <td>191.58</td>\n",
       "      <td>177.6192</td>\n",
       "      <td>1</td>\n",
       "      <td>2018</td>\n",
       "      <td>Card</td>\n",
       "      <td>Male</td>\n",
       "      <td>20</td>\n",
       "      <td>11284</td>\n",
       "      <td>418,859</td>\n",
       "      <td>127,001</td>\n",
       "    </tr>\n",
       "  </tbody>\n",
       "</table>\n",
       "<p>359392 rows × 12 columns</p>\n",
       "</div>"
      ],
      "text/plain": [
       "                                             Company  KM_Travelled  \\\n",
       "Transaction_ID Customer_ID City                                      \n",
       "10000011       29290       ATLANTA GA       Pink Cab         30.45   \n",
       "10000012       27703       ATLANTA GA       Pink Cab         28.62   \n",
       "10000013       28712       ATLANTA GA       Pink Cab          9.04   \n",
       "10000014       28020       ATLANTA GA       Pink Cab         33.17   \n",
       "10000015       27182       ATLANTA GA       Pink Cab          8.73   \n",
       "...                                              ...           ...   \n",
       "10440101       52392       WASHINGTON DC  Yellow Cab          4.80   \n",
       "10440104       53286       WASHINGTON DC  Yellow Cab          8.40   \n",
       "10440105       52265       WASHINGTON DC  Yellow Cab         27.75   \n",
       "10440106       52175       WASHINGTON DC  Yellow Cab          8.80   \n",
       "10440107       52917       WASHINGTON DC  Yellow Cab         12.76   \n",
       "\n",
       "                                          Price_Charged  Cost_of_Trip  Month  \\\n",
       "Transaction_ID Customer_ID City                                                \n",
       "10000011       29290       ATLANTA GA            370.95      313.6350      1   \n",
       "10000012       27703       ATLANTA GA            358.52      334.8540      1   \n",
       "10000013       28712       ATLANTA GA            125.20       97.6320      1   \n",
       "10000014       28020       ATLANTA GA            377.40      351.6020      1   \n",
       "10000015       27182       ATLANTA GA            114.62       97.7760      1   \n",
       "...                                                 ...           ...    ...   \n",
       "10440101       52392       WASHINGTON DC          69.24       63.3600      1   \n",
       "10440104       53286       WASHINGTON DC         113.75      106.8480      1   \n",
       "10440105       52265       WASHINGTON DC         437.07      349.6500      1   \n",
       "10440106       52175       WASHINGTON DC         146.19      114.0480      1   \n",
       "10440107       52917       WASHINGTON DC         191.58      177.6192      1   \n",
       "\n",
       "                                          Year Payment_Mode Gender  Age  \\\n",
       "Transaction_ID Customer_ID City                                           \n",
       "10000011       29290       ATLANTA GA     2016         Card   Male   28   \n",
       "10000012       27703       ATLANTA GA     2016         Card   Male   27   \n",
       "10000013       28712       ATLANTA GA     2016         Cash   Male   53   \n",
       "10000014       28020       ATLANTA GA     2016         Cash   Male   23   \n",
       "10000015       27182       ATLANTA GA     2016         Card   Male   33   \n",
       "...                                        ...          ...    ...  ...   \n",
       "10440101       52392       WASHINGTON DC  2018         Cash   Male   24   \n",
       "10440104       53286       WASHINGTON DC  2018         Cash   Male   32   \n",
       "10440105       52265       WASHINGTON DC  2018         Cash   Male   56   \n",
       "10440106       52175       WASHINGTON DC  2018         Card   Male   32   \n",
       "10440107       52917       WASHINGTON DC  2018         Card   Male   20   \n",
       "\n",
       "                                          Income_(USD/Month) Population  \\\n",
       "Transaction_ID Customer_ID City                                           \n",
       "10000011       29290       ATLANTA GA                  10813   814,885    \n",
       "10000012       27703       ATLANTA GA                   9237   814,885    \n",
       "10000013       28712       ATLANTA GA                  11242   814,885    \n",
       "10000014       28020       ATLANTA GA                  23327   814,885    \n",
       "10000015       27182       ATLANTA GA                   8536   814,885    \n",
       "...                                                      ...        ...   \n",
       "10440101       52392       WASHINGTON DC               15651   418,859    \n",
       "10440104       53286       WASHINGTON DC                6528   418,859    \n",
       "10440105       52265       WASHINGTON DC                7966   418,859    \n",
       "10440106       52175       WASHINGTON DC                6423   418,859    \n",
       "10440107       52917       WASHINGTON DC               11284   418,859    \n",
       "\n",
       "                                              Users  \n",
       "Transaction_ID Customer_ID City                      \n",
       "10000011       29290       ATLANTA GA       24,701   \n",
       "10000012       27703       ATLANTA GA       24,701   \n",
       "10000013       28712       ATLANTA GA       24,701   \n",
       "10000014       28020       ATLANTA GA       24,701   \n",
       "10000015       27182       ATLANTA GA       24,701   \n",
       "...                                             ...  \n",
       "10440101       52392       WASHINGTON DC   127,001   \n",
       "10440104       53286       WASHINGTON DC   127,001   \n",
       "10440105       52265       WASHINGTON DC   127,001   \n",
       "10440106       52175       WASHINGTON DC   127,001   \n",
       "10440107       52917       WASHINGTON DC   127,001   \n",
       "\n",
       "[359392 rows x 12 columns]"
      ]
     },
     "execution_count": 20,
     "metadata": {},
     "output_type": "execute_result"
    }
   ],
   "source": [
    "left = data.set_index([data.index,'City'])\n",
    "right = City.set_index(['City'])\n",
    "data = left.join(right)\n",
    "data"
   ]
  },
  {
   "cell_type": "code",
   "execution_count": 21,
   "id": "f4a27ed0",
   "metadata": {},
   "outputs": [],
   "source": [
    "YellowCab = data[data['Company']=='Yellow Cab']\n",
    "PinkCab = data[data['Company']=='Pink Cab']"
   ]
  },
  {
   "cell_type": "code",
   "execution_count": 22,
   "id": "20a2f00d",
   "metadata": {},
   "outputs": [
    {
     "name": "stderr",
     "output_type": "stream",
     "text": [
      "C:\\Users\\ohkyu\\anaconda3\\lib\\site-packages\\pandas\\core\\frame.py:4308: SettingWithCopyWarning: \n",
      "A value is trying to be set on a copy of a slice from a DataFrame\n",
      "\n",
      "See the caveats in the documentation: https://pandas.pydata.org/pandas-docs/stable/user_guide/indexing.html#returning-a-view-versus-a-copy\n",
      "  return super().drop(\n"
     ]
    }
   ],
   "source": [
    "YellowCab.drop(['Company', 'Payment_Mode', 'Gender','Population','Users'], axis=1, inplace=True)"
   ]
  },
  {
   "cell_type": "code",
   "execution_count": 23,
   "id": "45c0aa54",
   "metadata": {},
   "outputs": [],
   "source": [
    "PinkCab.drop(['Company', 'Payment_Mode', 'Gender','Population','Users'], axis=1, inplace=True)"
   ]
  },
  {
   "cell_type": "code",
   "execution_count": 24,
   "id": "21a5f987",
   "metadata": {},
   "outputs": [],
   "source": [
    "YellowCab_X = YellowCab.drop(['Price_Charged'], axis=1)\n",
    "YellowCab_y = YellowCab['Price_Charged'].copy()"
   ]
  },
  {
   "cell_type": "code",
   "execution_count": 25,
   "id": "e0fbb716",
   "metadata": {},
   "outputs": [],
   "source": [
    "PinkCab_X = PinkCab.drop(['Price_Charged'], axis=1)\n",
    "PinkCab_y = PinkCab['Price_Charged'].copy()"
   ]
  },
  {
   "cell_type": "code",
   "execution_count": 26,
   "id": "0b3a0911",
   "metadata": {},
   "outputs": [],
   "source": [
    "#Yellow Cab base model\n",
    "import statsmodels.api as sm"
   ]
  },
  {
   "cell_type": "code",
   "execution_count": 27,
   "id": "60a94322",
   "metadata": {},
   "outputs": [
    {
     "data": {
      "text/html": [
       "<table class=\"simpletable\">\n",
       "<caption>OLS Regression Results</caption>\n",
       "<tr>\n",
       "  <th>Dep. Variable:</th>      <td>Price_Charged</td>  <th>  R-squared:         </th>  <td>   0.745</td>  \n",
       "</tr>\n",
       "<tr>\n",
       "  <th>Model:</th>                   <td>OLS</td>       <th>  Adj. R-squared:    </th>  <td>   0.745</td>  \n",
       "</tr>\n",
       "<tr>\n",
       "  <th>Method:</th>             <td>Least Squares</td>  <th>  F-statistic:       </th>  <td>1.336e+05</td> \n",
       "</tr>\n",
       "<tr>\n",
       "  <th>Date:</th>             <td>Tue, 19 Apr 2022</td> <th>  Prob (F-statistic):</th>   <td>  0.00</td>   \n",
       "</tr>\n",
       "<tr>\n",
       "  <th>Time:</th>                 <td>18:38:59</td>     <th>  Log-Likelihood:    </th> <td>-1.7581e+06</td>\n",
       "</tr>\n",
       "<tr>\n",
       "  <th>No. Observations:</th>      <td>274681</td>      <th>  AIC:               </th>  <td>3.516e+06</td> \n",
       "</tr>\n",
       "<tr>\n",
       "  <th>Df Residuals:</th>          <td>274674</td>      <th>  BIC:               </th>  <td>3.516e+06</td> \n",
       "</tr>\n",
       "<tr>\n",
       "  <th>Df Model:</th>              <td>     6</td>      <th>                     </th>      <td> </td>     \n",
       "</tr>\n",
       "<tr>\n",
       "  <th>Covariance Type:</th>      <td>nonrobust</td>    <th>                     </th>      <td> </td>     \n",
       "</tr>\n",
       "</table>\n",
       "<table class=\"simpletable\">\n",
       "<tr>\n",
       "           <td></td>             <th>coef</th>     <th>std err</th>      <th>t</th>      <th>P>|t|</th>  <th>[0.025</th>    <th>0.975]</th>  \n",
       "</tr>\n",
       "<tr>\n",
       "  <th>const</th>              <td> 2.808e+04</td> <td>  699.967</td> <td>   40.114</td> <td> 0.000</td> <td> 2.67e+04</td> <td> 2.95e+04</td>\n",
       "</tr>\n",
       "<tr>\n",
       "  <th>KM_Travelled</th>       <td>   20.3318</td> <td>    0.198</td> <td>  102.702</td> <td> 0.000</td> <td>   19.944</td> <td>   20.720</td>\n",
       "</tr>\n",
       "<tr>\n",
       "  <th>Cost_of_Trip</th>       <td>   -0.0054</td> <td>    0.015</td> <td>   -0.363</td> <td> 0.716</td> <td>   -0.035</td> <td>    0.024</td>\n",
       "</tr>\n",
       "<tr>\n",
       "  <th>Month</th>              <td>   -5.4445</td> <td>    0.081</td> <td>  -67.624</td> <td> 0.000</td> <td>   -5.602</td> <td>   -5.287</td>\n",
       "</tr>\n",
       "<tr>\n",
       "  <th>Year</th>               <td>  -13.8998</td> <td>    0.347</td> <td>  -40.055</td> <td> 0.000</td> <td>  -14.580</td> <td>  -13.220</td>\n",
       "</tr>\n",
       "<tr>\n",
       "  <th>Age</th>                <td>   -0.0835</td> <td>    0.022</td> <td>   -3.778</td> <td> 0.000</td> <td>   -0.127</td> <td>   -0.040</td>\n",
       "</tr>\n",
       "<tr>\n",
       "  <th>Income_(USD/Month)</th> <td>    0.0002</td> <td> 3.49e-05</td> <td>    4.774</td> <td> 0.000</td> <td> 9.83e-05</td> <td>    0.000</td>\n",
       "</tr>\n",
       "</table>\n",
       "<table class=\"simpletable\">\n",
       "<tr>\n",
       "  <th>Omnibus:</th>       <td>51953.813</td> <th>  Durbin-Watson:     </th>  <td>   0.652</td> \n",
       "</tr>\n",
       "<tr>\n",
       "  <th>Prob(Omnibus):</th>  <td> 0.000</td>   <th>  Jarque-Bera (JB):  </th> <td>122979.286</td>\n",
       "</tr>\n",
       "<tr>\n",
       "  <th>Skew:</th>           <td> 1.070</td>   <th>  Prob(JB):          </th>  <td>    0.00</td> \n",
       "</tr>\n",
       "<tr>\n",
       "  <th>Kurtosis:</th>       <td> 5.482</td>   <th>  Cond. No.          </th>  <td>4.31e+07</td> \n",
       "</tr>\n",
       "</table><br/><br/>Notes:<br/>[1] Standard Errors assume that the covariance matrix of the errors is correctly specified.<br/>[2] The condition number is large, 4.31e+07. This might indicate that there are<br/>strong multicollinearity or other numerical problems."
      ],
      "text/plain": [
       "<class 'statsmodels.iolib.summary.Summary'>\n",
       "\"\"\"\n",
       "                            OLS Regression Results                            \n",
       "==============================================================================\n",
       "Dep. Variable:          Price_Charged   R-squared:                       0.745\n",
       "Model:                            OLS   Adj. R-squared:                  0.745\n",
       "Method:                 Least Squares   F-statistic:                 1.336e+05\n",
       "Date:                Tue, 19 Apr 2022   Prob (F-statistic):               0.00\n",
       "Time:                        18:38:59   Log-Likelihood:            -1.7581e+06\n",
       "No. Observations:              274681   AIC:                         3.516e+06\n",
       "Df Residuals:                  274674   BIC:                         3.516e+06\n",
       "Df Model:                           6                                         \n",
       "Covariance Type:            nonrobust                                         \n",
       "======================================================================================\n",
       "                         coef    std err          t      P>|t|      [0.025      0.975]\n",
       "--------------------------------------------------------------------------------------\n",
       "const               2.808e+04    699.967     40.114      0.000    2.67e+04    2.95e+04\n",
       "KM_Travelled          20.3318      0.198    102.702      0.000      19.944      20.720\n",
       "Cost_of_Trip          -0.0054      0.015     -0.363      0.716      -0.035       0.024\n",
       "Month                 -5.4445      0.081    -67.624      0.000      -5.602      -5.287\n",
       "Year                 -13.8998      0.347    -40.055      0.000     -14.580     -13.220\n",
       "Age                   -0.0835      0.022     -3.778      0.000      -0.127      -0.040\n",
       "Income_(USD/Month)     0.0002   3.49e-05      4.774      0.000    9.83e-05       0.000\n",
       "==============================================================================\n",
       "Omnibus:                    51953.813   Durbin-Watson:                   0.652\n",
       "Prob(Omnibus):                  0.000   Jarque-Bera (JB):           122979.286\n",
       "Skew:                           1.070   Prob(JB):                         0.00\n",
       "Kurtosis:                       5.482   Cond. No.                     4.31e+07\n",
       "==============================================================================\n",
       "\n",
       "Notes:\n",
       "[1] Standard Errors assume that the covariance matrix of the errors is correctly specified.\n",
       "[2] The condition number is large, 4.31e+07. This might indicate that there are\n",
       "strong multicollinearity or other numerical problems.\n",
       "\"\"\""
      ]
     },
     "execution_count": 27,
     "metadata": {},
     "output_type": "execute_result"
    }
   ],
   "source": [
    "x_constant=sm.add_constant(YellowCab_X)\n",
    "YellowCab_model =sm.OLS(YellowCab_y, x_constant).fit()\n",
    "YellowCab_model.summary()"
   ]
  },
  {
   "cell_type": "raw",
   "id": "e0869693",
   "metadata": {},
   "source": [
    "Cost of Trip,Month, Year, Age, Income are significant variable for Yellow Cab.\n",
    "Pink Cab Base Model"
   ]
  },
  {
   "cell_type": "code",
   "execution_count": 28,
   "id": "3e1495f4",
   "metadata": {},
   "outputs": [
    {
     "data": {
      "text/html": [
       "<table class=\"simpletable\">\n",
       "<caption>OLS Regression Results</caption>\n",
       "<tr>\n",
       "  <th>Dep. Variable:</th>      <td>Price_Charged</td>  <th>  R-squared:         </th>  <td>   0.863</td>  \n",
       "</tr>\n",
       "<tr>\n",
       "  <th>Model:</th>                   <td>OLS</td>       <th>  Adj. R-squared:    </th>  <td>   0.863</td>  \n",
       "</tr>\n",
       "<tr>\n",
       "  <th>Method:</th>             <td>Least Squares</td>  <th>  F-statistic:       </th>  <td>8.892e+04</td> \n",
       "</tr>\n",
       "<tr>\n",
       "  <th>Date:</th>             <td>Tue, 19 Apr 2022</td> <th>  Prob (F-statistic):</th>   <td>  0.00</td>   \n",
       "</tr>\n",
       "<tr>\n",
       "  <th>Time:</th>                 <td>18:38:59</td>     <th>  Log-Likelihood:    </th> <td>-4.7684e+05</td>\n",
       "</tr>\n",
       "<tr>\n",
       "  <th>No. Observations:</th>      <td> 84711</td>      <th>  AIC:               </th>  <td>9.537e+05</td> \n",
       "</tr>\n",
       "<tr>\n",
       "  <th>Df Residuals:</th>          <td> 84704</td>      <th>  BIC:               </th>  <td>9.538e+05</td> \n",
       "</tr>\n",
       "<tr>\n",
       "  <th>Df Model:</th>              <td>     6</td>      <th>                     </th>      <td> </td>     \n",
       "</tr>\n",
       "<tr>\n",
       "  <th>Covariance Type:</th>      <td>nonrobust</td>    <th>                     </th>      <td> </td>     \n",
       "</tr>\n",
       "</table>\n",
       "<table class=\"simpletable\">\n",
       "<tr>\n",
       "           <td></td>             <th>coef</th>     <th>std err</th>      <th>t</th>      <th>P>|t|</th>  <th>[0.025</th>    <th>0.975]</th>  \n",
       "</tr>\n",
       "<tr>\n",
       "  <th>const</th>              <td> 1.557e+04</td> <td>  583.563</td> <td>   26.689</td> <td> 0.000</td> <td> 1.44e+04</td> <td> 1.67e+04</td>\n",
       "</tr>\n",
       "<tr>\n",
       "  <th>KM_Travelled</th>       <td>   13.4783</td> <td>    0.165</td> <td>   81.893</td> <td> 0.000</td> <td>   13.156</td> <td>   13.801</td>\n",
       "</tr>\n",
       "<tr>\n",
       "  <th>Cost_of_Trip</th>       <td>    0.0299</td> <td>    0.015</td> <td>    2.012</td> <td> 0.044</td> <td>    0.001</td> <td>    0.059</td>\n",
       "</tr>\n",
       "<tr>\n",
       "  <th>Month</th>              <td>    1.7163</td> <td>    0.070</td> <td>   24.634</td> <td> 0.000</td> <td>    1.580</td> <td>    1.853</td>\n",
       "</tr>\n",
       "<tr>\n",
       "  <th>Year</th>               <td>   -7.7282</td> <td>    0.289</td> <td>  -26.713</td> <td> 0.000</td> <td>   -8.295</td> <td>   -7.161</td>\n",
       "</tr>\n",
       "<tr>\n",
       "  <th>Age</th>                <td>   -0.0399</td> <td>    0.018</td> <td>   -2.178</td> <td> 0.029</td> <td>   -0.076</td> <td>   -0.004</td>\n",
       "</tr>\n",
       "<tr>\n",
       "  <th>Income_(USD/Month)</th> <td> 3.486e-05</td> <td>  2.9e-05</td> <td>    1.203</td> <td> 0.229</td> <td>-2.19e-05</td> <td> 9.16e-05</td>\n",
       "</tr>\n",
       "</table>\n",
       "<table class=\"simpletable\">\n",
       "<tr>\n",
       "  <th>Omnibus:</th>       <td>28875.490</td> <th>  Durbin-Watson:     </th>  <td>   0.889</td> \n",
       "</tr>\n",
       "<tr>\n",
       "  <th>Prob(Omnibus):</th>  <td> 0.000</td>   <th>  Jarque-Bera (JB):  </th> <td>272988.442</td>\n",
       "</tr>\n",
       "<tr>\n",
       "  <th>Skew:</th>           <td> 1.369</td>   <th>  Prob(JB):          </th>  <td>    0.00</td> \n",
       "</tr>\n",
       "<tr>\n",
       "  <th>Kurtosis:</th>       <td>11.357</td>   <th>  Cond. No.          </th>  <td>4.32e+07</td> \n",
       "</tr>\n",
       "</table><br/><br/>Notes:<br/>[1] Standard Errors assume that the covariance matrix of the errors is correctly specified.<br/>[2] The condition number is large, 4.32e+07. This might indicate that there are<br/>strong multicollinearity or other numerical problems."
      ],
      "text/plain": [
       "<class 'statsmodels.iolib.summary.Summary'>\n",
       "\"\"\"\n",
       "                            OLS Regression Results                            \n",
       "==============================================================================\n",
       "Dep. Variable:          Price_Charged   R-squared:                       0.863\n",
       "Model:                            OLS   Adj. R-squared:                  0.863\n",
       "Method:                 Least Squares   F-statistic:                 8.892e+04\n",
       "Date:                Tue, 19 Apr 2022   Prob (F-statistic):               0.00\n",
       "Time:                        18:38:59   Log-Likelihood:            -4.7684e+05\n",
       "No. Observations:               84711   AIC:                         9.537e+05\n",
       "Df Residuals:                   84704   BIC:                         9.538e+05\n",
       "Df Model:                           6                                         \n",
       "Covariance Type:            nonrobust                                         \n",
       "======================================================================================\n",
       "                         coef    std err          t      P>|t|      [0.025      0.975]\n",
       "--------------------------------------------------------------------------------------\n",
       "const               1.557e+04    583.563     26.689      0.000    1.44e+04    1.67e+04\n",
       "KM_Travelled          13.4783      0.165     81.893      0.000      13.156      13.801\n",
       "Cost_of_Trip           0.0299      0.015      2.012      0.044       0.001       0.059\n",
       "Month                  1.7163      0.070     24.634      0.000       1.580       1.853\n",
       "Year                  -7.7282      0.289    -26.713      0.000      -8.295      -7.161\n",
       "Age                   -0.0399      0.018     -2.178      0.029      -0.076      -0.004\n",
       "Income_(USD/Month)  3.486e-05    2.9e-05      1.203      0.229   -2.19e-05    9.16e-05\n",
       "==============================================================================\n",
       "Omnibus:                    28875.490   Durbin-Watson:                   0.889\n",
       "Prob(Omnibus):                  0.000   Jarque-Bera (JB):           272988.442\n",
       "Skew:                           1.369   Prob(JB):                         0.00\n",
       "Kurtosis:                      11.357   Cond. No.                     4.32e+07\n",
       "==============================================================================\n",
       "\n",
       "Notes:\n",
       "[1] Standard Errors assume that the covariance matrix of the errors is correctly specified.\n",
       "[2] The condition number is large, 4.32e+07. This might indicate that there are\n",
       "strong multicollinearity or other numerical problems.\n",
       "\"\"\""
      ]
     },
     "execution_count": 28,
     "metadata": {},
     "output_type": "execute_result"
    }
   ],
   "source": [
    "x_constant=sm.add_constant(PinkCab_X)\n",
    "PinkCab_model =sm.OLS(PinkCab_y, x_constant).fit()\n",
    "PinkCab_model.summary()"
   ]
  },
  {
   "cell_type": "raw",
   "id": "f9642b77",
   "metadata": {},
   "source": [
    "Cost_of_Trip,Year, Age, Income are significant variable for Pink Cab."
   ]
  },
  {
   "cell_type": "code",
   "execution_count": 29,
   "id": "e3a71c3f",
   "metadata": {},
   "outputs": [],
   "source": [
    "from sklearn.model_selection import train_test_split\n",
    "from sklearn.linear_model import LinearRegression\n",
    "from sklearn.metrics import mean_squared_error, accuracy_score, classification_report"
   ]
  },
  {
   "cell_type": "code",
   "execution_count": 105,
   "id": "ba060cd5",
   "metadata": {},
   "outputs": [
    {
     "data": {
      "text/plain": [
       "LinearRegression()"
      ]
     },
     "execution_count": 105,
     "metadata": {},
     "output_type": "execute_result"
    }
   ],
   "source": [
    "X_train, X_test, y_train, y_test = train_test_split(YellowCab_X, YellowCab_y, test_size=0.3, random_state=42)\n",
    "\n",
    "lin_reg = LinearRegression()\n",
    "lin_reg.fit(X_train, y_train)"
   ]
  },
  {
   "cell_type": "code",
   "execution_count": 106,
   "id": "154fda72",
   "metadata": {},
   "outputs": [
    {
     "name": "stdout",
     "output_type": "stream",
     "text": [
      "Train score 145.4872641367467\n",
      "Test score 146.2237132304342\n"
     ]
    }
   ],
   "source": [
    "train_pred = lin_reg.predict(X_train)\n",
    "print(f'Train score {np.sqrt(mean_squared_error(y_train, train_pred))}')\n",
    "\n",
    "predicted = lin_reg.predict(X_test)\n",
    "print(f'Test score {np.sqrt(mean_squared_error(y_test, predicted))}')"
   ]
  },
  {
   "cell_type": "code",
   "execution_count": 107,
   "id": "2ef17eaf",
   "metadata": {},
   "outputs": [
    {
     "data": {
      "text/plain": [
       "LinearRegression()"
      ]
     },
     "execution_count": 107,
     "metadata": {},
     "output_type": "execute_result"
    }
   ],
   "source": [
    "X_train, X_test, y_train, y_test = train_test_split(PinkCab_X, PinkCab_y, test_size=0.3, random_state=42)\n",
    "\n",
    "lin_reg = LinearRegression()\n",
    "lin_reg.fit(X_train, y_train)"
   ]
  },
  {
   "cell_type": "code",
   "execution_count": 108,
   "id": "e9ac9ced",
   "metadata": {},
   "outputs": [
    {
     "name": "stdout",
     "output_type": "stream",
     "text": [
      "Train score 67.16444485498958\n",
      "Test score 67.83669219329067\n"
     ]
    }
   ],
   "source": [
    "train_pred = lin_reg.predict(X_train)\n",
    "print(f'Train score {np.sqrt(mean_squared_error(y_train, train_pred))}')\n",
    "\n",
    "predicted = lin_reg.predict(X_test)\n",
    "print(f'Test score {np.sqrt(mean_squared_error(y_test, predicted))}')"
   ]
  },
  {
   "cell_type": "code",
   "execution_count": 109,
   "id": "69ebb5cd",
   "metadata": {},
   "outputs": [
    {
     "name": "stdout",
     "output_type": "stream",
     "text": [
      "<class 'pandas.core.frame.DataFrame'>\n",
      "MultiIndex: 84711 entries, (10000011, 29290, 'ATLANTA GA') to (10437615, 51996, 'WASHINGTON DC')\n",
      "Data columns (total 7 columns):\n",
      " #   Column              Non-Null Count  Dtype  \n",
      "---  ------              --------------  -----  \n",
      " 0   KM_Travelled        84711 non-null  float64\n",
      " 1   Price_Charged       84711 non-null  float64\n",
      " 2   Cost_of_Trip        84711 non-null  float64\n",
      " 3   Month               84711 non-null  int64  \n",
      " 4   Year                84711 non-null  int64  \n",
      " 5   Age                 84711 non-null  int64  \n",
      " 6   Income_(USD/Month)  84711 non-null  int64  \n",
      "dtypes: float64(3), int64(4)\n",
      "memory usage: 17.4+ MB\n"
     ]
    }
   ],
   "source": [
    "#Correlation\n",
    "PinkCab.info()"
   ]
  },
  {
   "cell_type": "code",
   "execution_count": 35,
   "id": "31365fc7",
   "metadata": {},
   "outputs": [
    {
     "data": {
      "image/png": "[encoded data removed]",
      "text/plain": [
       "<Figure size 1080x720 with 2 Axes>"
      ]
     },
     "metadata": {
      "needs_background": "light"
     },
     "output_type": "display_data"
    }
   ],
   "source": [
    "plt.figure(figsize=(15,10))\n",
    "corr_m=PinkCab.corr()\n",
    "x=np.tri(corr_m.shape[0], k=-1)\n",
    "sns.heatmap(corr_m, annot=True, cmap=plt.cm.Reds, mask=x)\n",
    "plt.show()"
   ]
  },
  {
   "cell_type": "code",
   "execution_count": 110,
   "id": "d7a35795",
   "metadata": {},
   "outputs": [
    {
     "data": {
      "text/plain": [
       "KM_Travelled          0.859709\n",
       "Cost_of_Trip          0.853996\n",
       "Month                 0.065493\n",
       "Year                  0.038717\n",
       "Income_(USD/Month)    0.003818\n",
       "Age                   0.002721\n",
       "Name: Price_Charged, dtype: float64"
      ]
     },
     "execution_count": 110,
     "metadata": {},
     "output_type": "execute_result"
    }
   ],
   "source": [
    "corr_m['Price_Charged'].abs().sort_values(ascending=False)[1:]"
   ]
  },
  {
   "cell_type": "code",
   "execution_count": 111,
   "id": "46357abf",
   "metadata": {},
   "outputs": [
    {
     "name": "stdout",
     "output_type": "stream",
     "text": [
      "<class 'pandas.core.frame.DataFrame'>\n",
      "MultiIndex: 274681 entries, (10000384, 27602, 'ATLANTA GA') to (10440107, 52917, 'WASHINGTON DC')\n",
      "Data columns (total 7 columns):\n",
      " #   Column              Non-Null Count   Dtype  \n",
      "---  ------              --------------   -----  \n",
      " 0   KM_Travelled        274681 non-null  float64\n",
      " 1   Price_Charged       274681 non-null  float64\n",
      " 2   Cost_of_Trip        274681 non-null  float64\n",
      " 3   Month               274681 non-null  int64  \n",
      " 4   Year                274681 non-null  int64  \n",
      " 5   Age                 274681 non-null  int64  \n",
      " 6   Income_(USD/Month)  274681 non-null  int64  \n",
      "dtypes: float64(3), int64(4)\n",
      "memory usage: 29.2+ MB\n"
     ]
    }
   ],
   "source": [
    "#Correlation\n",
    "YellowCab.info()"
   ]
  },
  {
   "cell_type": "code",
   "execution_count": 112,
   "id": "37346182",
   "metadata": {},
   "outputs": [
    {
     "data": {
      "image/png": "[encoded data removed]",
      "text/plain": [
       "<Figure size 1080x720 with 2 Axes>"
      ]
     },
     "metadata": {
      "needs_background": "light"
     },
     "output_type": "display_data"
    }
   ],
   "source": [
    "plt.figure(figsize=(15,10))\n",
    "corr_m=YellowCab.corr()\n",
    "x=np.tri(corr_m.shape[0], k=-1)\n",
    "sns.heatmap(corr_m, annot=True, cmap=plt.cm.Reds, mask=x)\n",
    "plt.show()"
   ]
  },
  {
   "cell_type": "code",
   "execution_count": 113,
   "id": "b36c350b",
   "metadata": {},
   "outputs": [
    {
     "data": {
      "text/plain": [
       "KM_Travelled          0.859709\n",
       "Cost_of_Trip          0.853996\n",
       "Month                 0.065493\n",
       "Year                  0.038717\n",
       "Income_(USD/Month)    0.003818\n",
       "Age                   0.002721\n",
       "Name: Price_Charged, dtype: float64"
      ]
     },
     "execution_count": 113,
     "metadata": {},
     "output_type": "execute_result"
    }
   ],
   "source": [
    "corr_m['Price_Charged'].abs().sort_values(ascending=False)[1:]"
   ]
  },
  {
   "cell_type": "raw",
   "id": "ae749800",
   "metadata": {},
   "source": [
    "From the correlation, we can see KM travelled is correlated with Price Charged, followed by cost of trip.\n",
    "Year, Month, Age, Income are not correlated."
   ]
  },
  {
   "cell_type": "markdown",
   "id": "ccbfa122",
   "metadata": {},
   "source": [
    "Model Building\n",
    "Linear Regression"
   ]
  },
  {
   "cell_type": "raw",
   "id": "8e110776",
   "metadata": {},
   "source": [
    "Linear Regression is a method for predicting target value and attempts to model the linear relationship between target and one or more predictors.\n",
    "In our dataset, Price Charge is the target value and all the other variables are predictors."
   ]
  },
  {
   "cell_type": "code",
   "execution_count": 115,
   "id": "41813a77",
   "metadata": {},
   "outputs": [],
   "source": [
    "from sklearn.linear_model import LinearRegression\n",
    "from sklearn.model_selection import cross_val_score"
   ]
  },
  {
   "cell_type": "code",
   "execution_count": 116,
   "id": "f4661742",
   "metadata": {},
   "outputs": [],
   "source": [
    "#YellowCab\n",
    "X_trainu, X_testu, y_trainu, y_testu=train_test_split(YellowCab_X, YellowCab_y, test_size=0.3, random_state=42)\n"
   ]
  },
  {
   "cell_type": "code",
   "execution_count": 117,
   "id": "bdccc6ef",
   "metadata": {},
   "outputs": [
    {
     "data": {
      "text/plain": [
       "LinearRegression()"
      ]
     },
     "execution_count": 117,
     "metadata": {},
     "output_type": "execute_result"
    }
   ],
   "source": [
    "lin_reg_YellowCab = LinearRegression()\n",
    "lin_reg_YellowCab.fit(X_trainu, y_trainu)"
   ]
  },
  {
   "cell_type": "code",
   "execution_count": 118,
   "id": "3b675b53",
   "metadata": {},
   "outputs": [
    {
     "name": "stdout",
     "output_type": "stream",
     "text": [
      "Train RMSE score : 145.4872641367467\n",
      "Test score : 146.2237132304342\n"
     ]
    }
   ],
   "source": [
    "# print(f'Train score : {lin_reg_YellowCab.score(X_trainu, y_trainu)}')\n",
    "print(f'Train RMSE score : {np.sqrt(mean_squared_error(y_trainu, lin_reg_YellowCab.predict(X_trainu)))}')\n",
    "predicted = lin_reg_YellowCab.predict(X_testu)\n",
    "rmse = np.sqrt(mean_squared_error(y_testu, predicted))\n",
    "print(f'Test score : {rmse}')"
   ]
  },
  {
   "cell_type": "code",
   "execution_count": 119,
   "id": "09b9eaf1",
   "metadata": {},
   "outputs": [
    {
     "data": {
      "text/plain": [
       "{'Train': 145.4939, 'Test': 146.2176}"
      ]
     },
     "execution_count": 119,
     "metadata": {},
     "output_type": "execute_result"
    }
   ],
   "source": [
    "train_cv = cross_val_score(LinearRegression(), X_trainu, y_trainu, cv=5, n_jobs=-1,scoring='neg_mean_squared_error')\n",
    "train_rmse = np.sqrt(np.abs(train_cv)).mean()\n",
    "\n",
    "test_cv = cross_val_score(LinearRegression(), X_testu, y_testu, cv=5, n_jobs=-1,scoring='neg_mean_squared_error')\n",
    "test_rmse = np.sqrt(np.abs(test_cv)).mean()\n",
    "\n",
    "l_reg_YellowCab = {}\n",
    "l_reg_YellowCab['Train'] = round(train_rmse, 4)\n",
    "l_reg_YellowCab['Test'] = round(test_rmse, 4)\n",
    "l_reg_YellowCab"
   ]
  },
  {
   "cell_type": "code",
   "execution_count": 120,
   "id": "382ea173",
   "metadata": {},
   "outputs": [
    {
     "data": {
      "text/plain": [
       "LinearRegression()"
      ]
     },
     "execution_count": 120,
     "metadata": {},
     "output_type": "execute_result"
    }
   ],
   "source": [
    "model = LinearRegression()\n",
    "model.fit(X_trainu, y_trainu)"
   ]
  },
  {
   "cell_type": "code",
   "execution_count": 122,
   "id": "164992b3",
   "metadata": {},
   "outputs": [
    {
     "name": "stdout",
     "output_type": "stream",
     "text": [
      "The accuracy is: 74.43268021230067%\n"
     ]
    }
   ],
   "source": [
    "accuracyl_YellowCab = model.score(X_testu,y_testu)\n",
    "print('The accuracy is: ' + str(accuracyl_YellowCab *100) + '%')"
   ]
  },
  {
   "cell_type": "code",
   "execution_count": 123,
   "id": "4e131096",
   "metadata": {},
   "outputs": [],
   "source": [
    "#Pink Cab\n",
    "X_trainl, X_testl, y_trainl, y_testl = train_test_split(PinkCab_X, PinkCab_y, test_size=0.3, random_state=42)"
   ]
  },
  {
   "cell_type": "code",
   "execution_count": 124,
   "id": "47c7d1cb",
   "metadata": {},
   "outputs": [
    {
     "data": {
      "text/plain": [
       "LinearRegression()"
      ]
     },
     "execution_count": 124,
     "metadata": {},
     "output_type": "execute_result"
    }
   ],
   "source": [
    "lin_reg_PinkCab = LinearRegression()\n",
    "lin_reg_PinkCab.fit(X_trainl, y_trainl)"
   ]
  },
  {
   "cell_type": "code",
   "execution_count": 125,
   "id": "8a743bce",
   "metadata": {},
   "outputs": [
    {
     "name": "stdout",
     "output_type": "stream",
     "text": [
      "Train RMSE score : 67.16444485498958\n",
      "Test score:67.83669219329067\n"
     ]
    }
   ],
   "source": [
    "print(f'Train RMSE score : {np.sqrt(mean_squared_error(y_trainl, lin_reg_PinkCab.predict(X_trainl)))}')\n",
    "predicted = lin_reg_PinkCab.predict(X_testl)\n",
    "rmse=np.sqrt(mean_squared_error(y_testl, predicted))\n",
    "print(f'Test score:{rmse}')"
   ]
  },
  {
   "cell_type": "code",
   "execution_count": 126,
   "id": "1d46ac81",
   "metadata": {},
   "outputs": [
    {
     "data": {
      "text/plain": [
       "{'Train': 67.1721, 'Test': 67.8282}"
      ]
     },
     "execution_count": 126,
     "metadata": {},
     "output_type": "execute_result"
    }
   ],
   "source": [
    "train_cv = cross_val_score(LinearRegression(), X_trainl, y_trainl, cv=5, n_jobs=-1,scoring='neg_mean_squared_error')\n",
    "train_rmse = np.sqrt(np.abs(train_cv)).mean()\n",
    "\n",
    "test_cv = cross_val_score(LinearRegression(), X_testl, y_testl, cv=5, n_jobs=-1,scoring='neg_mean_squared_error')\n",
    "test_rmse = np.sqrt(np.abs(test_cv)).mean()\n",
    "\n",
    "l_reg_PinkCab = {}\n",
    "l_reg_PinkCab['Train'] = round(train_rmse, 4)\n",
    "l_reg_PinkCab['Test'] = round(test_rmse, 4)\n",
    "l_reg_PinkCab"
   ]
  },
  {
   "cell_type": "code",
   "execution_count": 127,
   "id": "fe7f426d",
   "metadata": {},
   "outputs": [
    {
     "data": {
      "text/plain": [
       "LinearRegression()"
      ]
     },
     "execution_count": 127,
     "metadata": {},
     "output_type": "execute_result"
    }
   ],
   "source": [
    "model=LinearRegression()\n",
    "model.fit(X_trainl, y_trainl)"
   ]
  },
  {
   "cell_type": "code",
   "execution_count": 128,
   "id": "f53a1371",
   "metadata": {},
   "outputs": [
    {
     "name": "stdout",
     "output_type": "stream",
     "text": [
      "The accuracy is: 86.09711090631818%\n"
     ]
    }
   ],
   "source": [
    "accuracyl_PinkCab = model.score(X_testl,y_testl)\n",
    "print('The accuracy is: ' + str(accuracyl_PinkCab *100) + '%')"
   ]
  },
  {
   "cell_type": "raw",
   "id": "08469fb4",
   "metadata": {},
   "source": [
    "Decision tree builds regression models in the form of a tree structure. It breaks down a dataset into smaller and smaller subsets while at the same time an associated decision tree is incrementally developed. \n",
    "The final result is a tree with decision nodes and leaf nodes.\n",
    "The topmost decision node in a tree which corresponds to the best predictor for the target value (Price Charged).\n"
   ]
  },
  {
   "cell_type": "raw",
   "id": "d2e49af9",
   "metadata": {},
   "source": [
    "Decision Tree"
   ]
  },
  {
   "cell_type": "code",
   "execution_count": 129,
   "id": "3236a4b5",
   "metadata": {},
   "outputs": [],
   "source": [
    "from sklearn.tree import DecisionTreeRegressor\n",
    "from sklearn.metrics import roc_curve"
   ]
  },
  {
   "cell_type": "code",
   "execution_count": 133,
   "id": "a7ba784b",
   "metadata": {},
   "outputs": [],
   "source": [
    "#YellowCab\n",
    "X_trainu, X_testu, y_trainu, y_testu = train_test_split(YellowCab_X, YellowCab_y, test_size=0.3, random_state=42)"
   ]
  },
  {
   "cell_type": "code",
   "execution_count": 134,
   "id": "39afcee7",
   "metadata": {},
   "outputs": [
    {
     "name": "stdout",
     "output_type": "stream",
     "text": [
      "Train score : 0.18173263352632787\n",
      "Test score : 207.1109082831866\n"
     ]
    }
   ],
   "source": [
    "dtree = DecisionTreeRegressor()\n",
    "\n",
    "dtree.fit(X_trainu, y_trainu)\n",
    "\n",
    "train_pred = dtree.predict(X_trainu)\n",
    "\n",
    "tr_rmse = np.sqrt(mean_squared_error(y_trainu, train_pred))\n",
    "print(f'Train score : {tr_rmse}')\n",
    "predicted = dtree.predict(X_testu)\n",
    "rmse = np.sqrt(mean_squared_error(y_testu, predicted))\n",
    "print(f'Test score : {rmse}')"
   ]
  },
  {
   "cell_type": "code",
   "execution_count": 135,
   "id": "26948cf8",
   "metadata": {},
   "outputs": [],
   "source": [
    "max_depth = range(1,20)\n",
    "train_results = []\n",
    "test_results = []\n",
    "for n in max_depth:\n",
    "    dt = DecisionTreeRegressor(max_depth=n)\n",
    "    dt.fit(X_trainu, y_trainu)\n",
    "    train_pred = dt.predict(X_trainu)\n",
    "    rmse = np.sqrt(mean_squared_error(y_trainu, train_pred))\n",
    "    train_results.append(rmse)\n",
    "    y_pred = dt.predict(X_testu)\n",
    "    ts_rmse = np.sqrt(mean_squared_error(y_testu, y_pred))\n",
    "    test_results.append(ts_rmse)"
   ]
  },
  {
   "cell_type": "code",
   "execution_count": 136,
   "id": "c3976a87",
   "metadata": {},
   "outputs": [
    {
     "data": {
      "image/png": "[encoded data removed]",
      "text/plain": [
       "<Figure size 432x288 with 1 Axes>"
      ]
     },
     "metadata": {
      "needs_background": "light"
     },
     "output_type": "display_data"
    }
   ],
   "source": [
    "from matplotlib.legend_handler import HandlerLine2D\n",
    "line1, = plt.plot(max_depth, train_results, 'b', label='Train RMSE')\n",
    "line2, = plt.plot(max_depth, test_results, 'r--', label='Test RMSE')\n",
    "plt.legend(handler_map={line1: HandlerLine2D(numpoints=2)})\n",
    "plt.ylabel('RMSE score')\n",
    "plt.xlabel('Tree depth')\n",
    "plt.show()"
   ]
  },
  {
   "cell_type": "code",
   "execution_count": 145,
   "id": "0d1ce365",
   "metadata": {},
   "outputs": [
    {
     "name": "stdout",
     "output_type": "stream",
     "text": [
      "Train score : 145.28305626989584\n",
      "Test score : 146.14129406367076\n"
     ]
    }
   ],
   "source": [
    "dtree = DecisionTreeRegressor(max_depth=5)\n",
    "\n",
    "dtree.fit(X_trainu, y_trainu)\n",
    "\n",
    "train_pred = dtree.predict(X_trainu)\n",
    "\n",
    "tr_rmse = np.sqrt(mean_squared_error(y_trainu, train_pred))\n",
    "print(f'Train score : {tr_rmse}')\n",
    "predicted = dtree.predict(X_testu)\n",
    "rmse = np.sqrt(mean_squared_error(y_testu, predicted))\n",
    "print(f'Test score : {rmse}')"
   ]
  },
  {
   "cell_type": "code",
   "execution_count": 146,
   "id": "194093bc",
   "metadata": {},
   "outputs": [
    {
     "data": {
      "text/plain": [
       "{'Train': 206.9774, 'Test': 207.6041}"
      ]
     },
     "execution_count": 146,
     "metadata": {},
     "output_type": "execute_result"
    }
   ],
   "source": [
    "train_cv = cross_val_score(DecisionTreeRegressor(), X_trainu, y_trainu, cv=5, n_jobs=-1,scoring='neg_mean_squared_error')\n",
    "train_rmse = np.sqrt(np.abs(train_cv)).mean()\n",
    "\n",
    "test_cv = cross_val_score(DecisionTreeRegressor(), X_testu, y_testu, cv=5, n_jobs=-1,scoring='neg_mean_squared_error')\n",
    "test_rmse = np.sqrt(np.abs(test_cv)).mean()\n",
    "\n",
    "dt_reg_YellowCab = {}\n",
    "dt_reg_YellowCab['Train'] = round(train_rmse, 4)\n",
    "dt_reg_YellowCab['Test'] = round(test_rmse, 4)\n",
    "dt_reg_YellowCab"
   ]
  },
  {
   "cell_type": "code",
   "execution_count": 143,
   "id": "50534e0d",
   "metadata": {},
   "outputs": [
    {
     "data": {
      "text/plain": [
       "DecisionTreeRegressor()"
      ]
     },
     "execution_count": 143,
     "metadata": {},
     "output_type": "execute_result"
    }
   ],
   "source": [
    "model = DecisionTreeRegressor()\n",
    "model.fit(X_trainu, y_trainu)"
   ]
  },
  {
   "cell_type": "code",
   "execution_count": 140,
   "id": "c8401321",
   "metadata": {},
   "outputs": [
    {
     "name": "stdout",
     "output_type": "stream",
     "text": [
      "The accuracy is: 99.99996019332049%\n"
     ]
    }
   ],
   "source": [
    "accuracyd_YellowCab  = model.score(X_trainu, y_trainu)\n",
    "print('The accuracy is: ' + str(accuracyd_YellowCab *100) + '%')"
   ]
  },
  {
   "cell_type": "code",
   "execution_count": 141,
   "id": "c2b8fb1e",
   "metadata": {},
   "outputs": [],
   "source": [
    "#Pink Cab\n",
    "X_trainl, X_testl, y_trainl, y_testl=train_test_split(PinkCab_X, PinkCab_y, test_size=0.3, random_state=42)"
   ]
  },
  {
   "cell_type": "code",
   "execution_count": 142,
   "id": "6edcb620",
   "metadata": {},
   "outputs": [
    {
     "name": "stdout",
     "output_type": "stream",
     "text": [
      "Train score : 66.92077775997672\n",
      "Test score : 67.85002656863335\n"
     ]
    }
   ],
   "source": [
    "dtree = DecisionTreeRegressor(max_depth=5)\n",
    "\n",
    "dtree.fit(X_trainl, y_trainl)\n",
    "\n",
    "train_pred = dtree.predict(X_trainl)\n",
    "\n",
    "tr_rmse = np.sqrt(mean_squared_error(y_trainl, train_pred))\n",
    "print(f'Train score : {tr_rmse}')\n",
    "predicted = dtree.predict(X_testl)\n",
    "rmse = np.sqrt(mean_squared_error(y_testl, predicted))\n",
    "print(f'Test score : {rmse}')"
   ]
  },
  {
   "cell_type": "code",
   "execution_count": 62,
   "id": "c1587daf",
   "metadata": {},
   "outputs": [
    {
     "data": {
      "text/plain": [
       "{'Train': 95.1079, 'Test': 95.5189}"
      ]
     },
     "execution_count": 62,
     "metadata": {},
     "output_type": "execute_result"
    }
   ],
   "source": [
    "train_cv = cross_val_score(DecisionTreeRegressor(), X_trainl, y_trainl, cv=5, n_jobs=-1,scoring='neg_mean_squared_error')\n",
    "train_rmse = np.sqrt(np.abs(train_cv)).mean()\n",
    "\n",
    "test_cv = cross_val_score(DecisionTreeRegressor(), X_testl, y_testl, cv=5, n_jobs=-1,scoring='neg_mean_squared_error')\n",
    "test_rmse = np.sqrt(np.abs(test_cv)).mean()\n",
    "\n",
    "dt_reg_PinkCab = {}\n",
    "dt_reg_PinkCab['Train'] = round(train_rmse, 4)\n",
    "dt_reg_PinkCab['Test'] = round(test_rmse, 4)\n",
    "dt_reg_PinkCab"
   ]
  },
  {
   "cell_type": "code",
   "execution_count": 63,
   "id": "3728d9f8",
   "metadata": {},
   "outputs": [
    {
     "data": {
      "text/plain": [
       "DecisionTreeRegressor()"
      ]
     },
     "execution_count": 63,
     "metadata": {},
     "output_type": "execute_result"
    }
   ],
   "source": [
    "model=DecisionTreeRegressor()\n",
    "model.fit(X_trainl, y_trainl)"
   ]
  },
  {
   "cell_type": "code",
   "execution_count": 64,
   "id": "d9a21957",
   "metadata": {},
   "outputs": [
    {
     "name": "stdout",
     "output_type": "stream",
     "text": [
      "The accuracy is: 37.38390104036119%\n"
     ]
    }
   ],
   "source": [
    "accuracyd_PinkCab  = model.score(X_trainu, y_trainu)\n",
    "print('The accuracy is: ' + str(accuracyd_PinkCab *100) + '%')"
   ]
  },
  {
   "cell_type": "raw",
   "id": "0f60c7c5",
   "metadata": {},
   "source": [
    "Random Forest"
   ]
  },
  {
   "cell_type": "code",
   "execution_count": 65,
   "id": "5777b8cc",
   "metadata": {},
   "outputs": [],
   "source": [
    "from sklearn.ensemble import RandomForestRegressor"
   ]
  },
  {
   "cell_type": "code",
   "execution_count": 66,
   "id": "9330e04d",
   "metadata": {},
   "outputs": [],
   "source": [
    "#YellowCab"
   ]
  },
  {
   "cell_type": "code",
   "execution_count": 67,
   "id": "5e67f9e5",
   "metadata": {},
   "outputs": [],
   "source": [
    "X_trainu, X_testu, y_trainu, y_testu=train_test_split(YellowCab_X, YellowCab_y, test_size=0.3, random_state=42)"
   ]
  },
  {
   "cell_type": "code",
   "execution_count": 68,
   "id": "e4f710bc",
   "metadata": {},
   "outputs": [
    {
     "name": "stdout",
     "output_type": "stream",
     "text": [
      "Train score : 55.50788754169844\n",
      "Test score : 148.84815085629765\n"
     ]
    }
   ],
   "source": [
    "rf = RandomForestRegressor(n_estimators = 100, random_state = 0)\n",
    "\n",
    "rf.fit(X_trainu, y_trainu)\n",
    "\n",
    "train_pred = rf.predict(X_trainu)\n",
    "\n",
    "tr_rmse = np.sqrt(mean_squared_error(y_trainu, train_pred))\n",
    "print(f'Train score : {tr_rmse}')\n",
    "predicted = rf.predict(X_testu)\n",
    "rmse = np.sqrt(mean_squared_error(y_testu, predicted))\n",
    "print(f'Test score : {rmse}')"
   ]
  },
  {
   "cell_type": "code",
   "execution_count": 69,
   "id": "e7692e5a",
   "metadata": {},
   "outputs": [
    {
     "data": {
      "text/plain": [
       "{'Train': 148.1592, 'Test': 148.6864}"
      ]
     },
     "execution_count": 69,
     "metadata": {},
     "output_type": "execute_result"
    }
   ],
   "source": [
    "train_cv = cross_val_score(RandomForestRegressor(), X_trainu, y_trainu, cv=5, n_jobs=-1,scoring='neg_mean_squared_error')\n",
    "train_rmse = np.sqrt(np.abs(train_cv)).mean()\n",
    "\n",
    "test_cv = cross_val_score(RandomForestRegressor(), X_testu, y_testu, cv=5, n_jobs=-1,scoring='neg_mean_squared_error')\n",
    "test_rmse = np.sqrt(np.abs(test_cv)).mean()\n",
    "\n",
    "rf_reg_YellowCab = {}\n",
    "rf_reg_YellowCab['Train'] = round(train_rmse, 4)\n",
    "rf_reg_YellowCab['Test'] = round(test_rmse, 4)\n",
    "rf_reg_YellowCab"
   ]
  },
  {
   "cell_type": "code",
   "execution_count": 70,
   "id": "448845a6",
   "metadata": {},
   "outputs": [
    {
     "data": {
      "text/plain": [
       "RandomForestRegressor()"
      ]
     },
     "execution_count": 70,
     "metadata": {},
     "output_type": "execute_result"
    }
   ],
   "source": [
    "model = RandomForestRegressor()\n",
    "model.fit(X_trainu, y_trainu)"
   ]
  },
  {
   "cell_type": "code",
   "execution_count": 92,
   "id": "247026f1",
   "metadata": {},
   "outputs": [
    {
     "name": "stdout",
     "output_type": "stream",
     "text": [
      "The accuracy is: 86.0883875041365%\n"
     ]
    }
   ],
   "source": [
    "accuracyr_YellowCab= model.score(X_testl,y_testl)\n",
    "print('The accuracy is: ' + str(accuracyr_YellowCab *100) + '%')"
   ]
  },
  {
   "cell_type": "code",
   "execution_count": 72,
   "id": "e6d377fb",
   "metadata": {},
   "outputs": [],
   "source": [
    "#PinkCab"
   ]
  },
  {
   "cell_type": "code",
   "execution_count": 83,
   "id": "813e01cb",
   "metadata": {},
   "outputs": [],
   "source": [
    "X_trainl, X_testl, y_trainl, y_testl = train_test_split(PinkCab_X, PinkCab_y, test_size=0.3, random_state=42)"
   ]
  },
  {
   "cell_type": "code",
   "execution_count": 84,
   "id": "a70a30e7",
   "metadata": {},
   "outputs": [
    {
     "name": "stdout",
     "output_type": "stream",
     "text": [
      "Train score : 25.205281468824566\n",
      "Test score : 67.74716565791756\n"
     ]
    }
   ],
   "source": [
    "rf = RandomForestRegressor()\n",
    "rf.fit(X_trainl, y_trainl)\n",
    "\n",
    "train_pred = rf.predict(X_trainl)\n",
    "\n",
    "tr_rmse = np.sqrt(mean_squared_error(y_trainl, train_pred))\n",
    "print(f'Train score : {tr_rmse}')\n",
    "predicted = rf.predict(X_testl)\n",
    "rmse = np.sqrt(mean_squared_error(y_testl, predicted))\n",
    "print(f'Test score : {rmse}')"
   ]
  },
  {
   "cell_type": "code",
   "execution_count": 75,
   "id": "d99df37e",
   "metadata": {},
   "outputs": [
    {
     "data": {
      "text/plain": [
       "{'Train': 67.4797, 'Test': 68.3633}"
      ]
     },
     "execution_count": 75,
     "metadata": {},
     "output_type": "execute_result"
    }
   ],
   "source": [
    "train_cv = cross_val_score(RandomForestRegressor(), X_trainl, y_trainl, cv=5, n_jobs=-1,scoring='neg_mean_squared_error')\n",
    "train_rmse = np.sqrt(np.abs(train_cv)).mean()\n",
    "\n",
    "test_cv = cross_val_score(RandomForestRegressor(), X_testl, y_testl, cv=5, n_jobs=-1,scoring='neg_mean_squared_error')\n",
    "test_rmse = np.sqrt(np.abs(test_cv)).mean()\n",
    "\n",
    "rf_reg_PinkCab = {}\n",
    "rf_reg_PinkCab['Train'] = round(train_rmse, 4)\n",
    "rf_reg_PinkCab['Test'] = round(test_rmse, 4)\n",
    "rf_reg_PinkCab"
   ]
  },
  {
   "cell_type": "code",
   "execution_count": 85,
   "id": "ca83b923",
   "metadata": {},
   "outputs": [
    {
     "data": {
      "text/plain": [
       "RandomForestRegressor()"
      ]
     },
     "execution_count": 85,
     "metadata": {},
     "output_type": "execute_result"
    }
   ],
   "source": [
    "model = RandomForestRegressor()\n",
    "model.fit(X_trainl, y_trainl)"
   ]
  },
  {
   "cell_type": "code",
   "execution_count": 93,
   "id": "4a3031fd",
   "metadata": {},
   "outputs": [
    {
     "name": "stdout",
     "output_type": "stream",
     "text": [
      "The accuracy is: 43.43794492338886%\n"
     ]
    }
   ],
   "source": [
    "accuracyr_PinkCab  = model.score(X_trainu, y_trainu)\n",
    "print('The accuracy is: ' + str(accuracyr_PinkCab *100) + '%')"
   ]
  },
  {
   "cell_type": "code",
   "execution_count": 94,
   "id": "73395cde",
   "metadata": {},
   "outputs": [
    {
     "data": {
      "text/html": [
       "<div>\n",
       "<style scoped>\n",
       "    .dataframe tbody tr th:only-of-type {\n",
       "        vertical-align: middle;\n",
       "    }\n",
       "\n",
       "    .dataframe tbody tr th {\n",
       "        vertical-align: top;\n",
       "    }\n",
       "\n",
       "    .dataframe thead th {\n",
       "        text-align: right;\n",
       "    }\n",
       "</style>\n",
       "<table border=\"1\" class=\"dataframe\">\n",
       "  <thead>\n",
       "    <tr style=\"text-align: right;\">\n",
       "      <th></th>\n",
       "      <th>Train</th>\n",
       "      <th>Test</th>\n",
       "    </tr>\n",
       "  </thead>\n",
       "  <tbody>\n",
       "    <tr>\n",
       "      <th>Linear Regression</th>\n",
       "      <td>145.4939</td>\n",
       "      <td>146.2176</td>\n",
       "    </tr>\n",
       "    <tr>\n",
       "      <th>Decision Tree</th>\n",
       "      <td>207.0249</td>\n",
       "      <td>207.2360</td>\n",
       "    </tr>\n",
       "    <tr>\n",
       "      <th>Random Forest</th>\n",
       "      <td>148.1592</td>\n",
       "      <td>148.6864</td>\n",
       "    </tr>\n",
       "  </tbody>\n",
       "</table>\n",
       "</div>"
      ],
      "text/plain": [
       "                      Train      Test\n",
       "Linear Regression  145.4939  146.2176\n",
       "Decision Tree      207.0249  207.2360\n",
       "Random Forest      148.1592  148.6864"
      ]
     },
     "execution_count": 94,
     "metadata": {},
     "output_type": "execute_result"
    }
   ],
   "source": [
    "final_results = pd.DataFrame([l_reg_YellowCab,dt_reg_YellowCab,\n",
    "                              rf_reg_YellowCab],\n",
    "                            index=['Linear Regression','Decision Tree','Random Forest'])\n",
    "final_results"
   ]
  },
  {
   "cell_type": "code",
   "execution_count": 95,
   "id": "38bec1d0",
   "metadata": {},
   "outputs": [
    {
     "data": {
      "text/html": [
       "<div>\n",
       "<style scoped>\n",
       "    .dataframe tbody tr th:only-of-type {\n",
       "        vertical-align: middle;\n",
       "    }\n",
       "\n",
       "    .dataframe tbody tr th {\n",
       "        vertical-align: top;\n",
       "    }\n",
       "\n",
       "    .dataframe thead th {\n",
       "        text-align: right;\n",
       "    }\n",
       "</style>\n",
       "<table border=\"1\" class=\"dataframe\">\n",
       "  <thead>\n",
       "    <tr style=\"text-align: right;\">\n",
       "      <th></th>\n",
       "      <th>Train</th>\n",
       "      <th>Test</th>\n",
       "    </tr>\n",
       "  </thead>\n",
       "  <tbody>\n",
       "    <tr>\n",
       "      <th>Linear Regression</th>\n",
       "      <td>67.1721</td>\n",
       "      <td>67.8282</td>\n",
       "    </tr>\n",
       "    <tr>\n",
       "      <th>Decision Tree</th>\n",
       "      <td>95.1079</td>\n",
       "      <td>95.5189</td>\n",
       "    </tr>\n",
       "    <tr>\n",
       "      <th>Random Forest</th>\n",
       "      <td>67.4797</td>\n",
       "      <td>68.3633</td>\n",
       "    </tr>\n",
       "  </tbody>\n",
       "</table>\n",
       "</div>"
      ],
      "text/plain": [
       "                     Train     Test\n",
       "Linear Regression  67.1721  67.8282\n",
       "Decision Tree      95.1079  95.5189\n",
       "Random Forest      67.4797  68.3633"
      ]
     },
     "execution_count": 95,
     "metadata": {},
     "output_type": "execute_result"
    }
   ],
   "source": [
    "final_results = pd.DataFrame([l_reg_PinkCab,dt_reg_PinkCab,\n",
    "                              rf_reg_PinkCab],\n",
    "                            index=['Linear Regression',\n",
    "                                  'Decision Tree', 'Random Forest'])\n",
    "final_results"
   ]
  },
  {
   "cell_type": "code",
   "execution_count": 96,
   "id": "b916dafc",
   "metadata": {},
   "outputs": [
    {
     "data": {
      "text/html": [
       "<div>\n",
       "<style scoped>\n",
       "    .dataframe tbody tr th:only-of-type {\n",
       "        vertical-align: middle;\n",
       "    }\n",
       "\n",
       "    .dataframe tbody tr th {\n",
       "        vertical-align: top;\n",
       "    }\n",
       "\n",
       "    .dataframe thead th {\n",
       "        text-align: right;\n",
       "    }\n",
       "</style>\n",
       "<table border=\"1\" class=\"dataframe\">\n",
       "  <thead>\n",
       "    <tr style=\"text-align: right;\">\n",
       "      <th></th>\n",
       "      <th>Accuracy</th>\n",
       "    </tr>\n",
       "  </thead>\n",
       "  <tbody>\n",
       "    <tr>\n",
       "      <th>Linear Regression</th>\n",
       "      <td>74.43268021230067%</td>\n",
       "    </tr>\n",
       "    <tr>\n",
       "      <th>Decision Tree</th>\n",
       "      <td>96.28639548578654%</td>\n",
       "    </tr>\n",
       "    <tr>\n",
       "      <th>Random Forest</th>\n",
       "      <td>86.0883875041365%</td>\n",
       "    </tr>\n",
       "  </tbody>\n",
       "</table>\n",
       "</div>"
      ],
      "text/plain": [
       "                             Accuracy\n",
       "Linear Regression  74.43268021230067%\n",
       "Decision Tree      96.28639548578654%\n",
       "Random Forest       86.0883875041365%"
      ]
     },
     "execution_count": 96,
     "metadata": {},
     "output_type": "execute_result"
    }
   ],
   "source": [
    "final_results = pd.DataFrame([str(accuracyl_YellowCab *100) + '%', str(accuracyd_YellowCab *100) + '%',str(accuracyr_YellowCab *100) + '%'],\n",
    "                            index=['Linear Regression',\n",
    "                                  'Decision Tree', 'Random Forest'],columns=['Accuracy'])\n",
    "final_results"
   ]
  },
  {
   "cell_type": "code",
   "execution_count": 97,
   "id": "8314ee08",
   "metadata": {},
   "outputs": [
    {
     "data": {
      "text/html": [
       "<div>\n",
       "<style scoped>\n",
       "    .dataframe tbody tr th:only-of-type {\n",
       "        vertical-align: middle;\n",
       "    }\n",
       "\n",
       "    .dataframe tbody tr th {\n",
       "        vertical-align: top;\n",
       "    }\n",
       "\n",
       "    .dataframe thead th {\n",
       "        text-align: right;\n",
       "    }\n",
       "</style>\n",
       "<table border=\"1\" class=\"dataframe\">\n",
       "  <thead>\n",
       "    <tr style=\"text-align: right;\">\n",
       "      <th></th>\n",
       "      <th>Accuracy</th>\n",
       "    </tr>\n",
       "  </thead>\n",
       "  <tbody>\n",
       "    <tr>\n",
       "      <th>Linear Regression</th>\n",
       "      <td>86.09711090631818%</td>\n",
       "    </tr>\n",
       "    <tr>\n",
       "      <th>Decision Tree</th>\n",
       "      <td>43.43794492338886%</td>\n",
       "    </tr>\n",
       "    <tr>\n",
       "      <th>Random Forest</th>\n",
       "      <td>43.43794492338886%</td>\n",
       "    </tr>\n",
       "  </tbody>\n",
       "</table>\n",
       "</div>"
      ],
      "text/plain": [
       "                             Accuracy\n",
       "Linear Regression  86.09711090631818%\n",
       "Decision Tree      43.43794492338886%\n",
       "Random Forest      43.43794492338886%"
      ]
     },
     "execution_count": 97,
     "metadata": {},
     "output_type": "execute_result"
    }
   ],
   "source": [
    "final_results = pd.DataFrame([str(accuracyl_PinkCab *100) + '%', str(accuracyd_PinkCab *100) + '%',str(accuracyr_PinkCab *100) + '%'],\n",
    "             \n",
    "                             index=['Linear Regression',\n",
    "                                  'Decision Tree', 'Random Forest'],columns=['Accuracy'])\n",
    "final_results"
   ]
  },
  {
   "cell_type": "code",
   "execution_count": null,
   "id": "c9d7a39b",
   "metadata": {},
   "outputs": [],
   "source": []
  }
 ],
 "metadata": {
  "kernelspec": {
   "display_name": "Python 3",
   "language": "python",
   "name": "python3"
  },
  "language_info": {
   "codemirror_mode": {
    "name": "ipython",
    "version": 3
   },
   "file_extension": ".py",
   "mimetype": "text/x-python",
   "name": "python",
   "nbconvert_exporter": "python",
   "pygments_lexer": "ipython3",
   "version": "3.8.8"
  }
 },
 "nbformat": 4,
 "nbformat_minor": 5
}
